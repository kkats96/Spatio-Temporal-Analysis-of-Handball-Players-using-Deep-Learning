{
  "cells": [
    {
      "cell_type": "markdown",
      "metadata": {
        "id": "0tlcPu98aGoD"
      },
      "source": [
        "**MSc in Big Data & Analytics Kosmas Katsioulas | ME2109 | Part D - Action Recognition Models**"
      ]
    },
    {
      "cell_type": "markdown",
      "source": [
        "# **Libraries & Packages**"
      ],
      "metadata": {
        "id": "mg6QKIyfY_XG"
      }
    },
    {
      "cell_type": "code",
      "source": [
        "!pip -q install pandas==2.2.2 numpy==2.0.0 scikit-learn==1.6 seaborn==0.13.2 matplotlib==3.8.4 tqdm==4.67"
      ],
      "metadata": {
        "colab": {
          "base_uri": "https://localhost:8080/"
        },
        "id": "wYWswndGZtZs",
        "outputId": "3bb5280b-0d3f-4cee-edd7-9a6b17a490ac"
      },
      "execution_count": 1,
      "outputs": [
        {
          "output_type": "stream",
          "name": "stdout",
          "text": [
            "\u001b[2K     \u001b[90m━━━━━━━━━━━━━━━━━━━━━━━━━━━━━━━━━━━━━━━━\u001b[0m \u001b[32m60.9/60.9 kB\u001b[0m \u001b[31m3.3 MB/s\u001b[0m eta \u001b[36m0:00:00\u001b[0m\n",
            "\u001b[2K     \u001b[90m━━━━━━━━━━━━━━━━━━━━━━━━━━━━━━━━━━━━━━━━\u001b[0m \u001b[32m57.6/57.6 kB\u001b[0m \u001b[31m2.5 MB/s\u001b[0m eta \u001b[36m0:00:00\u001b[0m\n",
            "\u001b[2K   \u001b[90m━━━━━━━━━━━━━━━━━━━━━━━━━━━━━━━━━━━━━━━━\u001b[0m \u001b[32m19.0/19.0 MB\u001b[0m \u001b[31m56.5 MB/s\u001b[0m eta \u001b[36m0:00:00\u001b[0m\n",
            "\u001b[2K   \u001b[90m━━━━━━━━━━━━━━━━━━━━━━━━━━━━━━━━━━━━━━━━\u001b[0m \u001b[32m13.1/13.1 MB\u001b[0m \u001b[31m69.1 MB/s\u001b[0m eta \u001b[36m0:00:00\u001b[0m\n",
            "\u001b[2K   \u001b[90m━━━━━━━━━━━━━━━━━━━━━━━━━━━━━━━━━━━━━━━━\u001b[0m \u001b[32m11.6/11.6 MB\u001b[0m \u001b[31m66.1 MB/s\u001b[0m eta \u001b[36m0:00:00\u001b[0m\n",
            "\u001b[2K   \u001b[90m━━━━━━━━━━━━━━━━━━━━━━━━━━━━━━━━━━━━━━━━\u001b[0m \u001b[32m78.6/78.6 kB\u001b[0m \u001b[31m4.3 MB/s\u001b[0m eta \u001b[36m0:00:00\u001b[0m\n",
            "\u001b[?25h"
          ]
        }
      ]
    },
    {
      "cell_type": "code",
      "source": [
        "import os, glob, re, json, math, random, warnings\n",
        "import numpy as np\n",
        "import pandas as pd\n",
        "import matplotlib.pyplot as plt\n",
        "import seaborn as sns\n",
        "from pathlib import Path\n",
        "from zipfile import ZipFile\n",
        "from collections import Counter\n",
        "from tqdm import tqdm\n",
        "from sklearn.model_selection import train_test_split, StratifiedKFold, GridSearchCV\n",
        "from sklearn.metrics import accuracy_score, f1_score, classification_report, confusion_matrix\n",
        "from sklearn.dummy import DummyClassifier\n",
        "from sklearn.ensemble import RandomForestClassifier, ExtraTreesClassifier"
      ],
      "metadata": {
        "id": "U0upOTkXZ8d-"
      },
      "execution_count": 2,
      "outputs": []
    },
    {
      "cell_type": "code",
      "source": [
        "SEED = 0\n",
        "random.seed(SEED)\n",
        "np.random.seed(SEED)"
      ],
      "metadata": {
        "id": "qyFeQCRTb0Is"
      },
      "execution_count": 3,
      "outputs": []
    },
    {
      "cell_type": "code",
      "source": [
        "sns.set(style=\"whitegrid\", font_scale=1.0)\n",
        "plt.rcParams[\"figure.figsize\"] = (7,4)\n",
        "plt.rcParams[\"savefig.dpi\"] = 150\n",
        "warnings.filterwarnings(\"ignore\")"
      ],
      "metadata": {
        "id": "v1ew18dJcddn"
      },
      "execution_count": 4,
      "outputs": []
    },
    {
      "cell_type": "code",
      "source": [
        "results_Dir = \"/content/Results_Action_Recognition\"\n",
        "os.makedirs(results_Dir, exist_ok=True)"
      ],
      "metadata": {
        "id": "sMc2IWcWchlh"
      },
      "execution_count": 5,
      "outputs": []
    },
    {
      "cell_type": "markdown",
      "source": [
        "# **Mount Google Drive**"
      ],
      "metadata": {
        "id": "h5CRpyepdGFg"
      }
    },
    {
      "cell_type": "code",
      "source": [
        "IN_COLAB = False\n",
        "try:\n",
        "    from google.colab import drive\n",
        "    drive.mount('/content/drive')\n",
        "    IN_COLAB = True\n",
        "except Exception:\n",
        "    pass"
      ],
      "metadata": {
        "colab": {
          "base_uri": "https://localhost:8080/"
        },
        "id": "8-jHzH5FdJmJ",
        "outputId": "be7d4eb6-d482-4d86-c118-188776a53974"
      },
      "execution_count": 6,
      "outputs": [
        {
          "output_type": "stream",
          "name": "stdout",
          "text": [
            "Mounted at /content/drive\n"
          ]
        }
      ]
    },
    {
      "cell_type": "markdown",
      "source": [
        "# **Useful Paths**"
      ],
      "metadata": {
        "id": "cgv9cjZOdbFl"
      }
    },
    {
      "cell_type": "code",
      "source": [
        "zip_path   = '/content/drive/MyDrive/Diploma/UNIRI_HBD_Dataset/uniri-hbd.zip'\n",
        "extract_to = '/content/uniri-hbd'"
      ],
      "metadata": {
        "id": "FGXS4F4GdfFX"
      },
      "execution_count": 7,
      "outputs": []
    },
    {
      "cell_type": "code",
      "source": [
        "if os.path.exists(zip_path) and not os.path.exists(extract_to):\n",
        "\n",
        "    with ZipFile(zip_path, 'r') as zf:\n",
        "\n",
        "        zf.extractall(extract_to)\n",
        "\n",
        "    print(\"Dataset extracted ->\", extract_to)\n",
        "\n",
        "else:\n",
        "\n",
        "    print(\"Zip not used or dataset already extracted / not found.\")"
      ],
      "metadata": {
        "colab": {
          "base_uri": "https://localhost:8080/"
        },
        "id": "uqPVeQYBdpXi",
        "outputId": "e5fc2a98-e86c-431c-99b1-e92ed0885df8"
      },
      "execution_count": 8,
      "outputs": [
        {
          "output_type": "stream",
          "name": "stdout",
          "text": [
            "Dataset extracted -> /content/uniri-hbd\n"
          ]
        }
      ]
    },
    {
      "cell_type": "code",
      "source": [
        "base_dir = os.path.join(extract_to, \"handball_s\")\n",
        "dets_dir = os.path.join(base_dir, \"player_detections\")\n",
        "scenes_dir = os.path.join(base_dir, \"scenes\")"
      ],
      "metadata": {
        "id": "VeXSjvkheOqZ"
      },
      "execution_count": 9,
      "outputs": []
    },
    {
      "cell_type": "markdown",
      "source": [
        "# **Useful Functions**"
      ],
      "metadata": {
        "id": "62mnbOfEfGQL"
      }
    },
    {
      "cell_type": "markdown",
      "source": [
        "**Parse CSV**"
      ],
      "metadata": {
        "id": "uVEySwJ3fJ-r"
      }
    },
    {
      "cell_type": "code",
      "source": [
        "def parse_uniri_csv(csv_path: str) -> pd.DataFrame:\n",
        "\n",
        "    rows, current_frame = [], None\n",
        "\n",
        "    with open(csv_path, \"r\") as f:\n",
        "\n",
        "        for raw in f:\n",
        "\n",
        "            line = raw.strip()\n",
        "\n",
        "            if not line:\n",
        "\n",
        "                continue\n",
        "\n",
        "            if line.lower().startswith(\"frame\"):\n",
        "\n",
        "                nums = re.findall(r\"\\d+\", line)\n",
        "                current_frame = int(nums[0]) if nums else None\n",
        "                continue\n",
        "\n",
        "            parts = re.split(r\"[,\\s]+\", line.strip(\", \"))\n",
        "\n",
        "            if current_frame is None or len(parts) < 5:\n",
        "                continue\n",
        "\n",
        "            try:\n",
        "                x1, y1, x2, y2, conf = map(float, parts[:5])\n",
        "                rows.append([current_frame, x1, y1, x2, y2, conf])\n",
        "\n",
        "            except Exception:\n",
        "                pass\n",
        "\n",
        "    df = pd.DataFrame(rows, columns=[\"frame\",\"x1\",\"y1\",\"x2\",\"y2\",\"conf\"])\n",
        "\n",
        "    if not df.empty:\n",
        "\n",
        "        df = df.sort_values(\"frame\").reset_index(drop=True)\n",
        "\n",
        "    return df"
      ],
      "metadata": {
        "id": "Bz1x4yx0fMar"
      },
      "execution_count": 10,
      "outputs": []
    },
    {
      "cell_type": "markdown",
      "source": [
        "**Build Dataset**"
      ],
      "metadata": {
        "id": "6jd8lk3dfvgE"
      }
    },
    {
      "cell_type": "code",
      "source": [
        "actions = sorted([d for d in os.listdir(dets_dir) if os.path.isdir(os.path.join(dets_dir, d))])"
      ],
      "metadata": {
        "id": "b-ObI7IHf18O"
      },
      "execution_count": 11,
      "outputs": []
    },
    {
      "cell_type": "code",
      "source": [
        "print(\"Actions discovered:\", actions)"
      ],
      "metadata": {
        "colab": {
          "base_uri": "https://localhost:8080/"
        },
        "id": "O-9jltntf3nY",
        "outputId": "17775f92-4bff-4223-b0a0-c5fdc11b49f2"
      },
      "execution_count": 12,
      "outputs": [
        {
          "output_type": "stream",
          "name": "stdout",
          "text": [
            "Actions discovered: ['crossing', 'defence', 'dribbling', 'jump-shot', 'passing', 'running', 'shot']\n"
          ]
        }
      ]
    },
    {
      "cell_type": "code",
      "source": [
        "def clip_features_from_csv(csv_path: str) -> dict:\n",
        "\n",
        "    action = Path(csv_path).parent.name\n",
        "    clip_id = Path(csv_path).stem\n",
        "\n",
        "    df = parse_uniri_csv(csv_path)\n",
        "    if df.empty:\n",
        "        return {\n",
        "            \"action\": action, \"clip\": clip_id,\n",
        "            \"frames_covered_ratio\": 0.0,\n",
        "            \"count_mean\": 0.0, \"count_std\": 0.0,\n",
        "            \"bbox_w_mean\": 0.0, \"bbox_h_mean\": 0.0, \"bbox_area_mean\": 0.0, \"bbox_ar_mean\": 0.0,\n",
        "            \"bbox_w_std\": 0.0, \"bbox_h_std\": 0.0, \"bbox_area_std\": 0.0, \"bbox_ar_std\": 0.0,\n",
        "            \"conf_p10\": 0.0, \"conf_med\": 0.0, \"conf_p90\": 0.0,\n",
        "            \"tiny_ratio\": 0.0, \"empty_ratio\": 1.0,\n",
        "        }\n",
        "\n",
        "    # valid widths / heights\n",
        "    df[\"w\"] = (df.x2 - df.x1).clip(lower=0)\n",
        "    df[\"h\"] = (df.y2 - df.y1).clip(lower=0)\n",
        "    df = df[(df.w > 1) & (df.h > 1)].copy()\n",
        "    if df.empty:\n",
        "        return {\n",
        "            \"action\": action, \"clip\": clip_id,\n",
        "            \"frames_covered_ratio\": 0.0,\n",
        "            \"count_mean\": 0.0, \"count_std\": 0.0,\n",
        "            \"bbox_w_mean\": 0.0, \"bbox_h_mean\": 0.0, \"bbox_area_mean\": 0.0, \"bbox_ar_mean\": 0.0,\n",
        "            \"bbox_w_std\": 0.0, \"bbox_h_std\": 0.0, \"bbox_area_std\": 0.0, \"bbox_ar_std\": 0.0,\n",
        "            \"conf_p10\": 0.0, \"conf_med\": 0.0, \"conf_p90\": 0.0,\n",
        "            \"tiny_ratio\": 0.0, \"empty_ratio\": 1.0,\n",
        "        }\n",
        "\n",
        "    # geometric stats\n",
        "    df[\"area\"] = df.w * df.h\n",
        "    df[\"ar\"]   = (df.w / df.h).replace([np.inf, -np.inf], np.nan).fillna(0.0)\n",
        "\n",
        "    # per-frame detection counts\n",
        "    counts = df.groupby(\"frame\").size()\n",
        "    count_mean, count_std = float(counts.mean()), float(counts.std() if len(counts)>1 else 0.0)\n",
        "\n",
        "    # frame coverage ratio over contiguous range\n",
        "    frames = sorted(df.frame.unique())\n",
        "    fmin, fmax = int(min(frames)), int(max(frames))\n",
        "    expected = (fmax - fmin + 1)\n",
        "    covered  = len(frames)\n",
        "    frames_covered_ratio = float(covered / expected) if expected > 0 else 0.0\n",
        "\n",
        "    # confidence distribution\n",
        "    conf_p10 = float(df.conf.quantile(0.10))\n",
        "    conf_med = float(df.conf.median())\n",
        "    conf_p90 = float(df.conf.quantile(0.90))\n",
        "\n",
        "    # bbox stats\n",
        "    w_mean, h_mean = float(df.w.mean()), float(df.h.mean())\n",
        "    a_mean, ar_mean = float(df.area.mean()), float(df.ar.mean())\n",
        "    w_std,  h_std   = float(df.w.std() if len(df)>1 else 0.0), float(df.h.std() if len(df)>1 else 0.0)\n",
        "    a_std,  ar_std  = float(df.area.std() if len(df)>1 else 0.0), float(df.ar.std() if len(df)>1 else 0.0)\n",
        "\n",
        "    # tiny / empty ratios\n",
        "    tiny_ratio  = float(((df.w < 8) | (df.h < 8)).mean())\n",
        "    empty_ratio = float(1.0 - (covered / expected)) if expected>0 else 1.0\n",
        "\n",
        "    return {\n",
        "        \"action\": action, \"clip\": clip_id,\n",
        "        \"frames_covered_ratio\": frames_covered_ratio,\n",
        "        \"count_mean\": count_mean, \"count_std\": count_std,\n",
        "        \"bbox_w_mean\": w_mean, \"bbox_h_mean\": h_mean,\n",
        "        \"bbox_area_mean\": a_mean, \"bbox_ar_mean\": ar_mean,\n",
        "        \"bbox_w_std\": w_std, \"bbox_h_std\": h_std,\n",
        "        \"bbox_area_std\": a_std, \"bbox_ar_std\": ar_std,\n",
        "        \"conf_p10\": conf_p10, \"conf_med\": conf_med, \"conf_p90\": conf_p90,\n",
        "        \"tiny_ratio\": tiny_ratio, \"empty_ratio\": empty_ratio,\n",
        "    }"
      ],
      "metadata": {
        "id": "Wow5l2eOgKNi"
      },
      "execution_count": 13,
      "outputs": []
    },
    {
      "cell_type": "code",
      "source": [
        "# Collect features for all CSVs\n",
        "rows = []\n",
        "max_csv_per_action = None"
      ],
      "metadata": {
        "id": "dUrcc8Lwitxd"
      },
      "execution_count": 14,
      "outputs": []
    },
    {
      "cell_type": "code",
      "source": [
        "for act in actions:\n",
        "\n",
        "    csvs = sorted(glob.glob(os.path.join(dets_dir, act, \"*.csv\")))\n",
        "\n",
        "    if max_csv_per_action is not None:\n",
        "\n",
        "        csvs = csvs[:max_csv_per_action]\n",
        "\n",
        "    for cp in tqdm(csvs, desc=f\"Build features — {act}\"):\n",
        "\n",
        "        rows.append(clip_features_from_csv(cp))"
      ],
      "metadata": {
        "colab": {
          "base_uri": "https://localhost:8080/"
        },
        "id": "mfC5aPopizqA",
        "outputId": "fed3c182-a08d-4060-b0e2-f6697598c60e"
      },
      "execution_count": 15,
      "outputs": [
        {
          "output_type": "stream",
          "name": "stderr",
          "text": [
            "Build features — crossing: 100%|██████████| 129/129 [00:01<00:00, 70.61it/s]\n",
            "Build features — defence: 100%|██████████| 16/16 [00:00<00:00, 84.27it/s]\n",
            "Build features — dribbling: 100%|██████████| 24/24 [00:00<00:00, 68.21it/s]\n",
            "Build features — jump-shot: 100%|██████████| 367/367 [00:07<00:00, 46.26it/s]\n",
            "Build features — passing: 100%|██████████| 104/104 [00:01<00:00, 71.36it/s]\n",
            "Build features — running: 100%|██████████| 9/9 [00:00<00:00, 49.79it/s]\n",
            "Build features — shot: 100%|██████████| 102/102 [00:02<00:00, 46.38it/s]\n"
          ]
        }
      ]
    },
    {
      "cell_type": "code",
      "source": [
        "df_data = pd.DataFrame(rows).sort_values([\"action\",\"clip\"]).reset_index(drop=True)\n",
        "print(\"Dataset shape:\", df_data.shape)"
      ],
      "metadata": {
        "colab": {
          "base_uri": "https://localhost:8080/"
        },
        "id": "BWt-c6MvjFO4",
        "outputId": "2f1e58a4-0aa8-47c0-97f4-eb170afce43d"
      },
      "execution_count": 16,
      "outputs": [
        {
          "output_type": "stream",
          "name": "stdout",
          "text": [
            "Dataset shape: (751, 18)\n"
          ]
        }
      ]
    },
    {
      "cell_type": "code",
      "source": [
        "display(df_data.head())\n",
        "df_data.to_csv(os.path.join(results_Dir, \"Clips_Features_Table_Kosmas_Katsioulas_ME2109.csv\"), index=False)"
      ],
      "metadata": {
        "colab": {
          "base_uri": "https://localhost:8080/",
          "height": 226
        },
        "id": "gziwQBkPjIzM",
        "outputId": "d2f366fa-69b4-4c80-a659-dbec78afe8d5"
      },
      "execution_count": 17,
      "outputs": [
        {
          "output_type": "display_data",
          "data": {
            "text/plain": [
              "     action             clip  frames_covered_ratio  count_mean  count_std  \\\n",
              "0  crossing    crossing_KS_1                   1.0   21.304878   1.960656   \n",
              "1  crossing   crossing_KS_10                   1.0   18.271605   2.449553   \n",
              "2  crossing  crossing_KS_100                   1.0   13.716418   1.873305   \n",
              "3  crossing  crossing_KS_101                   1.0   12.888889   2.269361   \n",
              "4  crossing  crossing_KS_102                   1.0   12.109756   2.424189   \n",
              "\n",
              "   bbox_w_mean  bbox_h_mean  bbox_area_mean  bbox_ar_mean  bbox_w_std  \\\n",
              "0   311.265400   164.369051   127610.790630      1.098358  521.975183   \n",
              "1   315.265038   167.509717   131596.595864      1.097841  523.044526   \n",
              "2   219.620627   122.669896    75058.913740      0.868544  481.701366   \n",
              "3   229.877477   161.254448   119202.289894      0.738226  497.689024   \n",
              "4   329.758004   174.651949   158942.006073      1.018533  593.405988   \n",
              "\n",
              "   bbox_h_std  bbox_area_std  bbox_ar_std  conf_p10  conf_med  conf_p90  \\\n",
              "0  159.954694  280635.764448     1.394429  0.073535  0.710556  0.993532   \n",
              "1  165.157321  288217.304631     1.349153  0.076476  0.841927  0.994370   \n",
              "2  109.751358  191853.232941     1.248578  0.063750  0.398354  0.995823   \n",
              "3  172.507922  321897.392359     0.786600  0.065702  0.713896  0.997416   \n",
              "4  180.416873  355828.613926     1.127769  0.065138  0.252524  0.996796   \n",
              "\n",
              "   tiny_ratio  empty_ratio  \n",
              "0    0.000000          0.0  \n",
              "1    0.003378          0.0  \n",
              "2    0.003264          0.0  \n",
              "3    0.000958          0.0  \n",
              "4    0.012085          0.0  "
            ],
            "text/html": [
              "\n",
              "  <div id=\"df-1f103331-8ba2-45e2-84f1-223fcd31386f\" class=\"colab-df-container\">\n",
              "    <div>\n",
              "<style scoped>\n",
              "    .dataframe tbody tr th:only-of-type {\n",
              "        vertical-align: middle;\n",
              "    }\n",
              "\n",
              "    .dataframe tbody tr th {\n",
              "        vertical-align: top;\n",
              "    }\n",
              "\n",
              "    .dataframe thead th {\n",
              "        text-align: right;\n",
              "    }\n",
              "</style>\n",
              "<table border=\"1\" class=\"dataframe\">\n",
              "  <thead>\n",
              "    <tr style=\"text-align: right;\">\n",
              "      <th></th>\n",
              "      <th>action</th>\n",
              "      <th>clip</th>\n",
              "      <th>frames_covered_ratio</th>\n",
              "      <th>count_mean</th>\n",
              "      <th>count_std</th>\n",
              "      <th>bbox_w_mean</th>\n",
              "      <th>bbox_h_mean</th>\n",
              "      <th>bbox_area_mean</th>\n",
              "      <th>bbox_ar_mean</th>\n",
              "      <th>bbox_w_std</th>\n",
              "      <th>bbox_h_std</th>\n",
              "      <th>bbox_area_std</th>\n",
              "      <th>bbox_ar_std</th>\n",
              "      <th>conf_p10</th>\n",
              "      <th>conf_med</th>\n",
              "      <th>conf_p90</th>\n",
              "      <th>tiny_ratio</th>\n",
              "      <th>empty_ratio</th>\n",
              "    </tr>\n",
              "  </thead>\n",
              "  <tbody>\n",
              "    <tr>\n",
              "      <th>0</th>\n",
              "      <td>crossing</td>\n",
              "      <td>crossing_KS_1</td>\n",
              "      <td>1.0</td>\n",
              "      <td>21.304878</td>\n",
              "      <td>1.960656</td>\n",
              "      <td>311.265400</td>\n",
              "      <td>164.369051</td>\n",
              "      <td>127610.790630</td>\n",
              "      <td>1.098358</td>\n",
              "      <td>521.975183</td>\n",
              "      <td>159.954694</td>\n",
              "      <td>280635.764448</td>\n",
              "      <td>1.394429</td>\n",
              "      <td>0.073535</td>\n",
              "      <td>0.710556</td>\n",
              "      <td>0.993532</td>\n",
              "      <td>0.000000</td>\n",
              "      <td>0.0</td>\n",
              "    </tr>\n",
              "    <tr>\n",
              "      <th>1</th>\n",
              "      <td>crossing</td>\n",
              "      <td>crossing_KS_10</td>\n",
              "      <td>1.0</td>\n",
              "      <td>18.271605</td>\n",
              "      <td>2.449553</td>\n",
              "      <td>315.265038</td>\n",
              "      <td>167.509717</td>\n",
              "      <td>131596.595864</td>\n",
              "      <td>1.097841</td>\n",
              "      <td>523.044526</td>\n",
              "      <td>165.157321</td>\n",
              "      <td>288217.304631</td>\n",
              "      <td>1.349153</td>\n",
              "      <td>0.076476</td>\n",
              "      <td>0.841927</td>\n",
              "      <td>0.994370</td>\n",
              "      <td>0.003378</td>\n",
              "      <td>0.0</td>\n",
              "    </tr>\n",
              "    <tr>\n",
              "      <th>2</th>\n",
              "      <td>crossing</td>\n",
              "      <td>crossing_KS_100</td>\n",
              "      <td>1.0</td>\n",
              "      <td>13.716418</td>\n",
              "      <td>1.873305</td>\n",
              "      <td>219.620627</td>\n",
              "      <td>122.669896</td>\n",
              "      <td>75058.913740</td>\n",
              "      <td>0.868544</td>\n",
              "      <td>481.701366</td>\n",
              "      <td>109.751358</td>\n",
              "      <td>191853.232941</td>\n",
              "      <td>1.248578</td>\n",
              "      <td>0.063750</td>\n",
              "      <td>0.398354</td>\n",
              "      <td>0.995823</td>\n",
              "      <td>0.003264</td>\n",
              "      <td>0.0</td>\n",
              "    </tr>\n",
              "    <tr>\n",
              "      <th>3</th>\n",
              "      <td>crossing</td>\n",
              "      <td>crossing_KS_101</td>\n",
              "      <td>1.0</td>\n",
              "      <td>12.888889</td>\n",
              "      <td>2.269361</td>\n",
              "      <td>229.877477</td>\n",
              "      <td>161.254448</td>\n",
              "      <td>119202.289894</td>\n",
              "      <td>0.738226</td>\n",
              "      <td>497.689024</td>\n",
              "      <td>172.507922</td>\n",
              "      <td>321897.392359</td>\n",
              "      <td>0.786600</td>\n",
              "      <td>0.065702</td>\n",
              "      <td>0.713896</td>\n",
              "      <td>0.997416</td>\n",
              "      <td>0.000958</td>\n",
              "      <td>0.0</td>\n",
              "    </tr>\n",
              "    <tr>\n",
              "      <th>4</th>\n",
              "      <td>crossing</td>\n",
              "      <td>crossing_KS_102</td>\n",
              "      <td>1.0</td>\n",
              "      <td>12.109756</td>\n",
              "      <td>2.424189</td>\n",
              "      <td>329.758004</td>\n",
              "      <td>174.651949</td>\n",
              "      <td>158942.006073</td>\n",
              "      <td>1.018533</td>\n",
              "      <td>593.405988</td>\n",
              "      <td>180.416873</td>\n",
              "      <td>355828.613926</td>\n",
              "      <td>1.127769</td>\n",
              "      <td>0.065138</td>\n",
              "      <td>0.252524</td>\n",
              "      <td>0.996796</td>\n",
              "      <td>0.012085</td>\n",
              "      <td>0.0</td>\n",
              "    </tr>\n",
              "  </tbody>\n",
              "</table>\n",
              "</div>\n",
              "    <div class=\"colab-df-buttons\">\n",
              "\n",
              "  <div class=\"colab-df-container\">\n",
              "    <button class=\"colab-df-convert\" onclick=\"convertToInteractive('df-1f103331-8ba2-45e2-84f1-223fcd31386f')\"\n",
              "            title=\"Convert this dataframe to an interactive table.\"\n",
              "            style=\"display:none;\">\n",
              "\n",
              "  <svg xmlns=\"http://www.w3.org/2000/svg\" height=\"24px\" viewBox=\"0 -960 960 960\">\n",
              "    <path d=\"M120-120v-720h720v720H120Zm60-500h600v-160H180v160Zm220 220h160v-160H400v160Zm0 220h160v-160H400v160ZM180-400h160v-160H180v160Zm440 0h160v-160H620v160ZM180-180h160v-160H180v160Zm440 0h160v-160H620v160Z\"/>\n",
              "  </svg>\n",
              "    </button>\n",
              "\n",
              "  <style>\n",
              "    .colab-df-container {\n",
              "      display:flex;\n",
              "      gap: 12px;\n",
              "    }\n",
              "\n",
              "    .colab-df-convert {\n",
              "      background-color: #E8F0FE;\n",
              "      border: none;\n",
              "      border-radius: 50%;\n",
              "      cursor: pointer;\n",
              "      display: none;\n",
              "      fill: #1967D2;\n",
              "      height: 32px;\n",
              "      padding: 0 0 0 0;\n",
              "      width: 32px;\n",
              "    }\n",
              "\n",
              "    .colab-df-convert:hover {\n",
              "      background-color: #E2EBFA;\n",
              "      box-shadow: 0px 1px 2px rgba(60, 64, 67, 0.3), 0px 1px 3px 1px rgba(60, 64, 67, 0.15);\n",
              "      fill: #174EA6;\n",
              "    }\n",
              "\n",
              "    .colab-df-buttons div {\n",
              "      margin-bottom: 4px;\n",
              "    }\n",
              "\n",
              "    [theme=dark] .colab-df-convert {\n",
              "      background-color: #3B4455;\n",
              "      fill: #D2E3FC;\n",
              "    }\n",
              "\n",
              "    [theme=dark] .colab-df-convert:hover {\n",
              "      background-color: #434B5C;\n",
              "      box-shadow: 0px 1px 3px 1px rgba(0, 0, 0, 0.15);\n",
              "      filter: drop-shadow(0px 1px 2px rgba(0, 0, 0, 0.3));\n",
              "      fill: #FFFFFF;\n",
              "    }\n",
              "  </style>\n",
              "\n",
              "    <script>\n",
              "      const buttonEl =\n",
              "        document.querySelector('#df-1f103331-8ba2-45e2-84f1-223fcd31386f button.colab-df-convert');\n",
              "      buttonEl.style.display =\n",
              "        google.colab.kernel.accessAllowed ? 'block' : 'none';\n",
              "\n",
              "      async function convertToInteractive(key) {\n",
              "        const element = document.querySelector('#df-1f103331-8ba2-45e2-84f1-223fcd31386f');\n",
              "        const dataTable =\n",
              "          await google.colab.kernel.invokeFunction('convertToInteractive',\n",
              "                                                    [key], {});\n",
              "        if (!dataTable) return;\n",
              "\n",
              "        const docLinkHtml = 'Like what you see? Visit the ' +\n",
              "          '<a target=\"_blank\" href=https://colab.research.google.com/notebooks/data_table.ipynb>data table notebook</a>'\n",
              "          + ' to learn more about interactive tables.';\n",
              "        element.innerHTML = '';\n",
              "        dataTable['output_type'] = 'display_data';\n",
              "        await google.colab.output.renderOutput(dataTable, element);\n",
              "        const docLink = document.createElement('div');\n",
              "        docLink.innerHTML = docLinkHtml;\n",
              "        element.appendChild(docLink);\n",
              "      }\n",
              "    </script>\n",
              "  </div>\n",
              "\n",
              "\n",
              "    <div id=\"df-7c50f995-42c1-4740-a936-b4c691099ee2\">\n",
              "      <button class=\"colab-df-quickchart\" onclick=\"quickchart('df-7c50f995-42c1-4740-a936-b4c691099ee2')\"\n",
              "                title=\"Suggest charts\"\n",
              "                style=\"display:none;\">\n",
              "\n",
              "<svg xmlns=\"http://www.w3.org/2000/svg\" height=\"24px\"viewBox=\"0 0 24 24\"\n",
              "     width=\"24px\">\n",
              "    <g>\n",
              "        <path d=\"M19 3H5c-1.1 0-2 .9-2 2v14c0 1.1.9 2 2 2h14c1.1 0 2-.9 2-2V5c0-1.1-.9-2-2-2zM9 17H7v-7h2v7zm4 0h-2V7h2v10zm4 0h-2v-4h2v4z\"/>\n",
              "    </g>\n",
              "</svg>\n",
              "      </button>\n",
              "\n",
              "<style>\n",
              "  .colab-df-quickchart {\n",
              "      --bg-color: #E8F0FE;\n",
              "      --fill-color: #1967D2;\n",
              "      --hover-bg-color: #E2EBFA;\n",
              "      --hover-fill-color: #174EA6;\n",
              "      --disabled-fill-color: #AAA;\n",
              "      --disabled-bg-color: #DDD;\n",
              "  }\n",
              "\n",
              "  [theme=dark] .colab-df-quickchart {\n",
              "      --bg-color: #3B4455;\n",
              "      --fill-color: #D2E3FC;\n",
              "      --hover-bg-color: #434B5C;\n",
              "      --hover-fill-color: #FFFFFF;\n",
              "      --disabled-bg-color: #3B4455;\n",
              "      --disabled-fill-color: #666;\n",
              "  }\n",
              "\n",
              "  .colab-df-quickchart {\n",
              "    background-color: var(--bg-color);\n",
              "    border: none;\n",
              "    border-radius: 50%;\n",
              "    cursor: pointer;\n",
              "    display: none;\n",
              "    fill: var(--fill-color);\n",
              "    height: 32px;\n",
              "    padding: 0;\n",
              "    width: 32px;\n",
              "  }\n",
              "\n",
              "  .colab-df-quickchart:hover {\n",
              "    background-color: var(--hover-bg-color);\n",
              "    box-shadow: 0 1px 2px rgba(60, 64, 67, 0.3), 0 1px 3px 1px rgba(60, 64, 67, 0.15);\n",
              "    fill: var(--button-hover-fill-color);\n",
              "  }\n",
              "\n",
              "  .colab-df-quickchart-complete:disabled,\n",
              "  .colab-df-quickchart-complete:disabled:hover {\n",
              "    background-color: var(--disabled-bg-color);\n",
              "    fill: var(--disabled-fill-color);\n",
              "    box-shadow: none;\n",
              "  }\n",
              "\n",
              "  .colab-df-spinner {\n",
              "    border: 2px solid var(--fill-color);\n",
              "    border-color: transparent;\n",
              "    border-bottom-color: var(--fill-color);\n",
              "    animation:\n",
              "      spin 1s steps(1) infinite;\n",
              "  }\n",
              "\n",
              "  @keyframes spin {\n",
              "    0% {\n",
              "      border-color: transparent;\n",
              "      border-bottom-color: var(--fill-color);\n",
              "      border-left-color: var(--fill-color);\n",
              "    }\n",
              "    20% {\n",
              "      border-color: transparent;\n",
              "      border-left-color: var(--fill-color);\n",
              "      border-top-color: var(--fill-color);\n",
              "    }\n",
              "    30% {\n",
              "      border-color: transparent;\n",
              "      border-left-color: var(--fill-color);\n",
              "      border-top-color: var(--fill-color);\n",
              "      border-right-color: var(--fill-color);\n",
              "    }\n",
              "    40% {\n",
              "      border-color: transparent;\n",
              "      border-right-color: var(--fill-color);\n",
              "      border-top-color: var(--fill-color);\n",
              "    }\n",
              "    60% {\n",
              "      border-color: transparent;\n",
              "      border-right-color: var(--fill-color);\n",
              "    }\n",
              "    80% {\n",
              "      border-color: transparent;\n",
              "      border-right-color: var(--fill-color);\n",
              "      border-bottom-color: var(--fill-color);\n",
              "    }\n",
              "    90% {\n",
              "      border-color: transparent;\n",
              "      border-bottom-color: var(--fill-color);\n",
              "    }\n",
              "  }\n",
              "</style>\n",
              "\n",
              "      <script>\n",
              "        async function quickchart(key) {\n",
              "          const quickchartButtonEl =\n",
              "            document.querySelector('#' + key + ' button');\n",
              "          quickchartButtonEl.disabled = true;  // To prevent multiple clicks.\n",
              "          quickchartButtonEl.classList.add('colab-df-spinner');\n",
              "          try {\n",
              "            const charts = await google.colab.kernel.invokeFunction(\n",
              "                'suggestCharts', [key], {});\n",
              "          } catch (error) {\n",
              "            console.error('Error during call to suggestCharts:', error);\n",
              "          }\n",
              "          quickchartButtonEl.classList.remove('colab-df-spinner');\n",
              "          quickchartButtonEl.classList.add('colab-df-quickchart-complete');\n",
              "        }\n",
              "        (() => {\n",
              "          let quickchartButtonEl =\n",
              "            document.querySelector('#df-7c50f995-42c1-4740-a936-b4c691099ee2 button');\n",
              "          quickchartButtonEl.style.display =\n",
              "            google.colab.kernel.accessAllowed ? 'block' : 'none';\n",
              "        })();\n",
              "      </script>\n",
              "    </div>\n",
              "\n",
              "    </div>\n",
              "  </div>\n"
            ],
            "application/vnd.google.colaboratory.intrinsic+json": {
              "type": "dataframe",
              "summary": "{\n  \"name\": \"df_data\",\n  \"rows\": 5,\n  \"fields\": [\n    {\n      \"column\": \"action\",\n      \"properties\": {\n        \"dtype\": \"category\",\n        \"num_unique_values\": 1,\n        \"samples\": [\n          \"crossing\"\n        ],\n        \"semantic_type\": \"\",\n        \"description\": \"\"\n      }\n    },\n    {\n      \"column\": \"clip\",\n      \"properties\": {\n        \"dtype\": \"string\",\n        \"num_unique_values\": 5,\n        \"samples\": [\n          \"crossing_KS_10\"\n        ],\n        \"semantic_type\": \"\",\n        \"description\": \"\"\n      }\n    },\n    {\n      \"column\": \"frames_covered_ratio\",\n      \"properties\": {\n        \"dtype\": \"number\",\n        \"std\": 0.0,\n        \"min\": 1.0,\n        \"max\": 1.0,\n        \"num_unique_values\": 1,\n        \"samples\": [\n          1.0\n        ],\n        \"semantic_type\": \"\",\n        \"description\": \"\"\n      }\n    },\n    {\n      \"column\": \"count_mean\",\n      \"properties\": {\n        \"dtype\": \"number\",\n        \"std\": 3.9606159287587444,\n        \"min\": 12.109756097560975,\n        \"max\": 21.304878048780488,\n        \"num_unique_values\": 5,\n        \"samples\": [\n          18.271604938271604\n        ],\n        \"semantic_type\": \"\",\n        \"description\": \"\"\n      }\n    },\n    {\n      \"column\": \"count_std\",\n      \"properties\": {\n        \"dtype\": \"number\",\n        \"std\": 0.26516887672441297,\n        \"min\": 1.8733050532960873,\n        \"max\": 2.4495527432523905,\n        \"num_unique_values\": 5,\n        \"samples\": [\n          2.4495527432523905\n        ],\n        \"semantic_type\": \"\",\n        \"description\": \"\"\n      }\n    },\n    {\n      \"column\": \"bbox_w_mean\",\n      \"properties\": {\n        \"dtype\": \"number\",\n        \"std\": 52.07745749640947,\n        \"min\": 219.62062731229597,\n        \"max\": 329.75800437059416,\n        \"num_unique_values\": 5,\n        \"samples\": [\n          315.2650379054054\n        ],\n        \"semantic_type\": \"\",\n        \"description\": \"\"\n      }\n    },\n    {\n      \"column\": \"bbox_h_mean\",\n      \"properties\": {\n        \"dtype\": \"number\",\n        \"std\": 20.41478158921701,\n        \"min\": 122.66989553862894,\n        \"max\": 174.65194884189324,\n        \"num_unique_values\": 5,\n        \"samples\": [\n          167.5097175\n        ],\n        \"semantic_type\": \"\",\n        \"description\": \"\"\n      }\n    },\n    {\n      \"column\": \"bbox_area_mean\",\n      \"properties\": {\n        \"dtype\": \"number\",\n        \"std\": 30407.30998731409,\n        \"min\": 75058.9137400149,\n        \"max\": 158942.00607297706,\n        \"num_unique_values\": 5,\n        \"samples\": [\n          131596.5958640409\n        ],\n        \"semantic_type\": \"\",\n        \"description\": \"\"\n      }\n    },\n    {\n      \"column\": \"bbox_ar_mean\",\n      \"properties\": {\n        \"dtype\": \"number\",\n        \"std\": 0.15734105434769538,\n        \"min\": 0.7382256657173314,\n        \"max\": 1.0983582054746104,\n        \"num_unique_values\": 5,\n        \"samples\": [\n          1.0978409383013366\n        ],\n        \"semantic_type\": \"\",\n        \"description\": \"\"\n      }\n    },\n    {\n      \"column\": \"bbox_w_std\",\n      \"properties\": {\n        \"dtype\": \"number\",\n        \"std\": 42.727894960014915,\n        \"min\": 481.70136611775143,\n        \"max\": 593.4059882950872,\n        \"num_unique_values\": 5,\n        \"samples\": [\n          523.0445260054452\n        ],\n        \"semantic_type\": \"\",\n        \"description\": \"\"\n      }\n    },\n    {\n      \"column\": \"bbox_h_std\",\n      \"properties\": {\n        \"dtype\": \"number\",\n        \"std\": 27.816348886309815,\n        \"min\": 109.75135819669649,\n        \"max\": 180.41687310180998,\n        \"num_unique_values\": 5,\n        \"samples\": [\n          165.15732125451035\n        ],\n        \"semantic_type\": \"\",\n        \"description\": \"\"\n      }\n    },\n    {\n      \"column\": \"bbox_area_std\",\n      \"properties\": {\n        \"dtype\": \"number\",\n        \"std\": 61334.620213369635,\n        \"min\": 191853.2329413602,\n        \"max\": 355828.6139263009,\n        \"num_unique_values\": 5,\n        \"samples\": [\n          288217.3046312016\n        ],\n        \"semantic_type\": \"\",\n        \"description\": \"\"\n      }\n    },\n    {\n      \"column\": \"bbox_ar_std\",\n      \"properties\": {\n        \"dtype\": \"number\",\n        \"std\": 0.24329946983530368,\n        \"min\": 0.7866000595344601,\n        \"max\": 1.3944293573449862,\n        \"num_unique_values\": 5,\n        \"samples\": [\n          1.3491526070891702\n        ],\n        \"semantic_type\": \"\",\n        \"description\": \"\"\n      }\n    },\n    {\n      \"column\": \"conf_p10\",\n      \"properties\": {\n        \"dtype\": \"number\",\n        \"std\": 0.005696221906717652,\n        \"min\": 0.06374984,\n        \"max\": 0.07647631,\n        \"num_unique_values\": 5,\n        \"samples\": [\n          0.07647631\n        ],\n        \"semantic_type\": \"\",\n        \"description\": \"\"\n      }\n    },\n    {\n      \"column\": \"conf_med\",\n      \"properties\": {\n        \"dtype\": \"number\",\n        \"std\": 0.24685755581068408,\n        \"min\": 0.252524,\n        \"max\": 0.8419265,\n        \"num_unique_values\": 5,\n        \"samples\": [\n          0.8419265\n        ],\n        \"semantic_type\": \"\",\n        \"description\": \"\"\n      }\n    },\n    {\n      \"column\": \"conf_p90\",\n      \"properties\": {\n        \"dtype\": \"number\",\n        \"std\": 0.0016253188124180325,\n        \"min\": 0.9935316000000001,\n        \"max\": 0.9974155,\n        \"num_unique_values\": 5,\n        \"samples\": [\n          0.9943698\n        ],\n        \"semantic_type\": \"\",\n        \"description\": \"\"\n      }\n    },\n    {\n      \"column\": \"tiny_ratio\",\n      \"properties\": {\n        \"dtype\": \"number\",\n        \"std\": 0.004783381651350684,\n        \"min\": 0.0,\n        \"max\": 0.012084592145015106,\n        \"num_unique_values\": 5,\n        \"samples\": [\n          0.0033783783783783786\n        ],\n        \"semantic_type\": \"\",\n        \"description\": \"\"\n      }\n    },\n    {\n      \"column\": \"empty_ratio\",\n      \"properties\": {\n        \"dtype\": \"number\",\n        \"std\": 0.0,\n        \"min\": 0.0,\n        \"max\": 0.0,\n        \"num_unique_values\": 1,\n        \"samples\": [\n          0.0\n        ],\n        \"semantic_type\": \"\",\n        \"description\": \"\"\n      }\n    }\n  ]\n}"
            }
          },
          "metadata": {}
        }
      ]
    },
    {
      "cell_type": "code",
      "source": [
        "plt.figure(figsize=(7,4))\n",
        "sns.countplot(data=df_data, x=\"action\")\n",
        "plt.title(\"Clips per action\")\n",
        "plt.xticks(rotation=20, ha=\"right\")\n",
        "plt.tight_layout()\n",
        "plt.savefig(os.path.join(results_Dir, \"Class_Distribution_Kosmas_Katsioulas_ME2109.png\"))\n",
        "plt.show()"
      ],
      "metadata": {
        "colab": {
          "base_uri": "https://localhost:8080/",
          "height": 401
        },
        "id": "kYNtA--Nj6WU",
        "outputId": "52ff417c-427b-4cae-9b38-9651d52e76c2"
      },
      "execution_count": 18,
      "outputs": [
        {
          "output_type": "display_data",
          "data": {
            "text/plain": [
              "<Figure size 700x400 with 1 Axes>"
            ],
            "image/png": "[encoded data removed]"
          },
          "metadata": {}
        }
      ]
    },
    {
      "cell_type": "markdown",
      "source": [
        "# **Features / Labels**"
      ],
      "metadata": {
        "id": "9DEBC33DkXY4"
      }
    },
    {
      "cell_type": "markdown",
      "source": [
        "**Train / Val / Test**"
      ],
      "metadata": {
        "id": "6fTrAJOmkk9g"
      }
    },
    {
      "cell_type": "code",
      "source": [
        "# Features/labels\n",
        "feature_cols = [c for c in df_data.columns if c not in [\"action\",\"clip\"]]\n",
        "X = df_data[feature_cols].values\n",
        "y = df_data[\"action\"].values"
      ],
      "metadata": {
        "id": "vARTnBNHkgno"
      },
      "execution_count": 19,
      "outputs": []
    },
    {
      "cell_type": "code",
      "source": [
        "X_tr, X_temp, y_tr, y_temp = train_test_split(X, y, test_size=0.30, random_state=SEED, stratify=y)\n",
        "X_val, X_te, y_val, y_te = train_test_split(X_temp, y_temp, test_size=0.50, random_state=SEED, stratify=y_temp)"
      ],
      "metadata": {
        "id": "Th71nftYlDI-"
      },
      "execution_count": 20,
      "outputs": []
    },
    {
      "cell_type": "code",
      "source": [
        "print(\"Split sizes:\", len(y_tr), len(y_val), len(y_te))"
      ],
      "metadata": {
        "colab": {
          "base_uri": "https://localhost:8080/"
        },
        "id": "xJkBXXzsl6DJ",
        "outputId": "a732bc4d-b5b5-467f-9019-8d1739d490a6"
      },
      "execution_count": 21,
      "outputs": [
        {
          "output_type": "stream",
          "name": "stdout",
          "text": [
            "Split sizes: 525 113 113\n"
          ]
        }
      ]
    },
    {
      "cell_type": "markdown",
      "source": [
        "# **Random Forest Classifier**"
      ],
      "metadata": {
        "id": "rFr736dcmErW"
      }
    },
    {
      "cell_type": "code",
      "source": [
        "rf = RandomForestClassifier(\n",
        "    n_estimators=400,\n",
        "    max_depth=None,\n",
        "    min_samples_leaf=2,\n",
        "    max_features='sqrt',\n",
        "    class_weight='balanced',\n",
        "    random_state=SEED,\n",
        "    n_jobs=-1\n",
        ")"
      ],
      "metadata": {
        "id": "tjg6F5zNnSwv"
      },
      "execution_count": 22,
      "outputs": []
    },
    {
      "cell_type": "code",
      "source": [
        "param_grid_rf = {\n",
        "    \"n_estimators\": [300, 500],\n",
        "    \"min_samples_leaf\": [1, 2, 3],\n",
        "    \"max_features\": [\"sqrt\", 0.5],\n",
        "}"
      ],
      "metadata": {
        "id": "hy4tZcivqtI3"
      },
      "execution_count": 23,
      "outputs": []
    },
    {
      "cell_type": "code",
      "source": [
        "cv = StratifiedKFold(n_splits=5, shuffle=True, random_state=SEED)"
      ],
      "metadata": {
        "id": "7DMq0NAMq_S4"
      },
      "execution_count": 24,
      "outputs": []
    },
    {
      "cell_type": "code",
      "source": [
        "gs_rf = GridSearchCV(rf, param_grid_rf, scoring=\"f1_macro\", cv=cv, n_jobs=-1, verbose=0)"
      ],
      "metadata": {
        "id": "P9nOBM-5rUBS"
      },
      "execution_count": 25,
      "outputs": []
    },
    {
      "cell_type": "code",
      "source": [
        "gs_rf.fit(X_tr, y_tr)"
      ],
      "metadata": {
        "colab": {
          "base_uri": "https://localhost:8080/",
          "height": 166
        },
        "id": "A3i3O6VYrX9K",
        "outputId": "687e2aa7-4bb7-4a57-b120-7563b00577ec"
      },
      "execution_count": 26,
      "outputs": [
        {
          "output_type": "execute_result",
          "data": {
            "text/plain": [
              "GridSearchCV(cv=StratifiedKFold(n_splits=5, random_state=0, shuffle=True),\n",
              "             estimator=RandomForestClassifier(class_weight='balanced',\n",
              "                                              min_samples_leaf=2,\n",
              "                                              n_estimators=400, n_jobs=-1,\n",
              "                                              random_state=0),\n",
              "             n_jobs=-1,\n",
              "             param_grid={'max_features': ['sqrt', 0.5],\n",
              "                         'min_samples_leaf': [1, 2, 3],\n",
              "                         'n_estimators': [300, 500]},\n",
              "             scoring='f1_macro')"
            ],
            "text/html": [
              "<style>#sk-container-id-1 {\n",
              "  /* Definition of color scheme common for light and dark mode */\n",
              "  --sklearn-color-text: #000;\n",
              "  --sklearn-color-text-muted: #666;\n",
              "  --sklearn-color-line: gray;\n",
              "  /* Definition of color scheme for unfitted estimators */\n",
              "  --sklearn-color-unfitted-level-0: #fff5e6;\n",
              "  --sklearn-color-unfitted-level-1: #f6e4d2;\n",
              "  --sklearn-color-unfitted-level-2: #ffe0b3;\n",
              "  --sklearn-color-unfitted-level-3: chocolate;\n",
              "  /* Definition of color scheme for fitted estimators */\n",
              "  --sklearn-color-fitted-level-0: #f0f8ff;\n",
              "  --sklearn-color-fitted-level-1: #d4ebff;\n",
              "  --sklearn-color-fitted-level-2: #b3dbfd;\n",
              "  --sklearn-color-fitted-level-3: cornflowerblue;\n",
              "\n",
              "  /* Specific color for light theme */\n",
              "  --sklearn-color-text-on-default-background: var(--sg-text-color, var(--theme-code-foreground, var(--jp-content-font-color1, black)));\n",
              "  --sklearn-color-background: var(--sg-background-color, var(--theme-background, var(--jp-layout-color0, white)));\n",
              "  --sklearn-color-border-box: var(--sg-text-color, var(--theme-code-foreground, var(--jp-content-font-color1, black)));\n",
              "  --sklearn-color-icon: #696969;\n",
              "\n",
              "  @media (prefers-color-scheme: dark) {\n",
              "    /* Redefinition of color scheme for dark theme */\n",
              "    --sklearn-color-text-on-default-background: var(--sg-text-color, var(--theme-code-foreground, var(--jp-content-font-color1, white)));\n",
              "    --sklearn-color-background: var(--sg-background-color, var(--theme-background, var(--jp-layout-color0, #111)));\n",
              "    --sklearn-color-border-box: var(--sg-text-color, var(--theme-code-foreground, var(--jp-content-font-color1, white)));\n",
              "    --sklearn-color-icon: #878787;\n",
              "  }\n",
              "}\n",
              "\n",
              "#sk-container-id-1 {\n",
              "  color: var(--sklearn-color-text);\n",
              "}\n",
              "\n",
              "#sk-container-id-1 pre {\n",
              "  padding: 0;\n",
              "}\n",
              "\n",
              "#sk-container-id-1 input.sk-hidden--visually {\n",
              "  border: 0;\n",
              "  clip: rect(1px 1px 1px 1px);\n",
              "  clip: rect(1px, 1px, 1px, 1px);\n",
              "  height: 1px;\n",
              "  margin: -1px;\n",
              "  overflow: hidden;\n",
              "  padding: 0;\n",
              "  position: absolute;\n",
              "  width: 1px;\n",
              "}\n",
              "\n",
              "#sk-container-id-1 div.sk-dashed-wrapped {\n",
              "  border: 1px dashed var(--sklearn-color-line);\n",
              "  margin: 0 0.4em 0.5em 0.4em;\n",
              "  box-sizing: border-box;\n",
              "  padding-bottom: 0.4em;\n",
              "  background-color: var(--sklearn-color-background);\n",
              "}\n",
              "\n",
              "#sk-container-id-1 div.sk-container {\n",
              "  /* jupyter's `normalize.less` sets `[hidden] { display: none; }`\n",
              "     but bootstrap.min.css set `[hidden] { display: none !important; }`\n",
              "     so we also need the `!important` here to be able to override the\n",
              "     default hidden behavior on the sphinx rendered scikit-learn.org.\n",
              "     See: https://github.com/scikit-learn/scikit-learn/issues/21755 */\n",
              "  display: inline-block !important;\n",
              "  position: relative;\n",
              "}\n",
              "\n",
              "#sk-container-id-1 div.sk-text-repr-fallback {\n",
              "  display: none;\n",
              "}\n",
              "\n",
              "div.sk-parallel-item,\n",
              "div.sk-serial,\n",
              "div.sk-item {\n",
              "  /* draw centered vertical line to link estimators */\n",
              "  background-image: linear-gradient(var(--sklearn-color-text-on-default-background), var(--sklearn-color-text-on-default-background));\n",
              "  background-size: 2px 100%;\n",
              "  background-repeat: no-repeat;\n",
              "  background-position: center center;\n",
              "}\n",
              "\n",
              "/* Parallel-specific style estimator block */\n",
              "\n",
              "#sk-container-id-1 div.sk-parallel-item::after {\n",
              "  content: \"\";\n",
              "  width: 100%;\n",
              "  border-bottom: 2px solid var(--sklearn-color-text-on-default-background);\n",
              "  flex-grow: 1;\n",
              "}\n",
              "\n",
              "#sk-container-id-1 div.sk-parallel {\n",
              "  display: flex;\n",
              "  align-items: stretch;\n",
              "  justify-content: center;\n",
              "  background-color: var(--sklearn-color-background);\n",
              "  position: relative;\n",
              "}\n",
              "\n",
              "#sk-container-id-1 div.sk-parallel-item {\n",
              "  display: flex;\n",
              "  flex-direction: column;\n",
              "}\n",
              "\n",
              "#sk-container-id-1 div.sk-parallel-item:first-child::after {\n",
              "  align-self: flex-end;\n",
              "  width: 50%;\n",
              "}\n",
              "\n",
              "#sk-container-id-1 div.sk-parallel-item:last-child::after {\n",
              "  align-self: flex-start;\n",
              "  width: 50%;\n",
              "}\n",
              "\n",
              "#sk-container-id-1 div.sk-parallel-item:only-child::after {\n",
              "  width: 0;\n",
              "}\n",
              "\n",
              "/* Serial-specific style estimator block */\n",
              "\n",
              "#sk-container-id-1 div.sk-serial {\n",
              "  display: flex;\n",
              "  flex-direction: column;\n",
              "  align-items: center;\n",
              "  background-color: var(--sklearn-color-background);\n",
              "  padding-right: 1em;\n",
              "  padding-left: 1em;\n",
              "}\n",
              "\n",
              "\n",
              "/* Toggleable style: style used for estimator/Pipeline/ColumnTransformer box that is\n",
              "clickable and can be expanded/collapsed.\n",
              "- Pipeline and ColumnTransformer use this feature and define the default style\n",
              "- Estimators will overwrite some part of the style using the `sk-estimator` class\n",
              "*/\n",
              "\n",
              "/* Pipeline and ColumnTransformer style (default) */\n",
              "\n",
              "#sk-container-id-1 div.sk-toggleable {\n",
              "  /* Default theme specific background. It is overwritten whether we have a\n",
              "  specific estimator or a Pipeline/ColumnTransformer */\n",
              "  background-color: var(--sklearn-color-background);\n",
              "}\n",
              "\n",
              "/* Toggleable label */\n",
              "#sk-container-id-1 label.sk-toggleable__label {\n",
              "  cursor: pointer;\n",
              "  display: flex;\n",
              "  width: 100%;\n",
              "  margin-bottom: 0;\n",
              "  padding: 0.5em;\n",
              "  box-sizing: border-box;\n",
              "  text-align: center;\n",
              "  align-items: start;\n",
              "  justify-content: space-between;\n",
              "  gap: 0.5em;\n",
              "}\n",
              "\n",
              "#sk-container-id-1 label.sk-toggleable__label .caption {\n",
              "  font-size: 0.6rem;\n",
              "  font-weight: lighter;\n",
              "  color: var(--sklearn-color-text-muted);\n",
              "}\n",
              "\n",
              "#sk-container-id-1 label.sk-toggleable__label-arrow:before {\n",
              "  /* Arrow on the left of the label */\n",
              "  content: \"▸\";\n",
              "  float: left;\n",
              "  margin-right: 0.25em;\n",
              "  color: var(--sklearn-color-icon);\n",
              "}\n",
              "\n",
              "#sk-container-id-1 label.sk-toggleable__label-arrow:hover:before {\n",
              "  color: var(--sklearn-color-text);\n",
              "}\n",
              "\n",
              "/* Toggleable content - dropdown */\n",
              "\n",
              "#sk-container-id-1 div.sk-toggleable__content {\n",
              "  max-height: 0;\n",
              "  max-width: 0;\n",
              "  overflow: hidden;\n",
              "  text-align: left;\n",
              "  /* unfitted */\n",
              "  background-color: var(--sklearn-color-unfitted-level-0);\n",
              "}\n",
              "\n",
              "#sk-container-id-1 div.sk-toggleable__content.fitted {\n",
              "  /* fitted */\n",
              "  background-color: var(--sklearn-color-fitted-level-0);\n",
              "}\n",
              "\n",
              "#sk-container-id-1 div.sk-toggleable__content pre {\n",
              "  margin: 0.2em;\n",
              "  border-radius: 0.25em;\n",
              "  color: var(--sklearn-color-text);\n",
              "  /* unfitted */\n",
              "  background-color: var(--sklearn-color-unfitted-level-0);\n",
              "}\n",
              "\n",
              "#sk-container-id-1 div.sk-toggleable__content.fitted pre {\n",
              "  /* unfitted */\n",
              "  background-color: var(--sklearn-color-fitted-level-0);\n",
              "}\n",
              "\n",
              "#sk-container-id-1 input.sk-toggleable__control:checked~div.sk-toggleable__content {\n",
              "  /* Expand drop-down */\n",
              "  max-height: 200px;\n",
              "  max-width: 100%;\n",
              "  overflow: auto;\n",
              "}\n",
              "\n",
              "#sk-container-id-1 input.sk-toggleable__control:checked~label.sk-toggleable__label-arrow:before {\n",
              "  content: \"▾\";\n",
              "}\n",
              "\n",
              "/* Pipeline/ColumnTransformer-specific style */\n",
              "\n",
              "#sk-container-id-1 div.sk-label input.sk-toggleable__control:checked~label.sk-toggleable__label {\n",
              "  color: var(--sklearn-color-text);\n",
              "  background-color: var(--sklearn-color-unfitted-level-2);\n",
              "}\n",
              "\n",
              "#sk-container-id-1 div.sk-label.fitted input.sk-toggleable__control:checked~label.sk-toggleable__label {\n",
              "  background-color: var(--sklearn-color-fitted-level-2);\n",
              "}\n",
              "\n",
              "/* Estimator-specific style */\n",
              "\n",
              "/* Colorize estimator box */\n",
              "#sk-container-id-1 div.sk-estimator input.sk-toggleable__control:checked~label.sk-toggleable__label {\n",
              "  /* unfitted */\n",
              "  background-color: var(--sklearn-color-unfitted-level-2);\n",
              "}\n",
              "\n",
              "#sk-container-id-1 div.sk-estimator.fitted input.sk-toggleable__control:checked~label.sk-toggleable__label {\n",
              "  /* fitted */\n",
              "  background-color: var(--sklearn-color-fitted-level-2);\n",
              "}\n",
              "\n",
              "#sk-container-id-1 div.sk-label label.sk-toggleable__label,\n",
              "#sk-container-id-1 div.sk-label label {\n",
              "  /* The background is the default theme color */\n",
              "  color: var(--sklearn-color-text-on-default-background);\n",
              "}\n",
              "\n",
              "/* On hover, darken the color of the background */\n",
              "#sk-container-id-1 div.sk-label:hover label.sk-toggleable__label {\n",
              "  color: var(--sklearn-color-text);\n",
              "  background-color: var(--sklearn-color-unfitted-level-2);\n",
              "}\n",
              "\n",
              "/* Label box, darken color on hover, fitted */\n",
              "#sk-container-id-1 div.sk-label.fitted:hover label.sk-toggleable__label.fitted {\n",
              "  color: var(--sklearn-color-text);\n",
              "  background-color: var(--sklearn-color-fitted-level-2);\n",
              "}\n",
              "\n",
              "/* Estimator label */\n",
              "\n",
              "#sk-container-id-1 div.sk-label label {\n",
              "  font-family: monospace;\n",
              "  font-weight: bold;\n",
              "  display: inline-block;\n",
              "  line-height: 1.2em;\n",
              "}\n",
              "\n",
              "#sk-container-id-1 div.sk-label-container {\n",
              "  text-align: center;\n",
              "}\n",
              "\n",
              "/* Estimator-specific */\n",
              "#sk-container-id-1 div.sk-estimator {\n",
              "  font-family: monospace;\n",
              "  border: 1px dotted var(--sklearn-color-border-box);\n",
              "  border-radius: 0.25em;\n",
              "  box-sizing: border-box;\n",
              "  margin-bottom: 0.5em;\n",
              "  /* unfitted */\n",
              "  background-color: var(--sklearn-color-unfitted-level-0);\n",
              "}\n",
              "\n",
              "#sk-container-id-1 div.sk-estimator.fitted {\n",
              "  /* fitted */\n",
              "  background-color: var(--sklearn-color-fitted-level-0);\n",
              "}\n",
              "\n",
              "/* on hover */\n",
              "#sk-container-id-1 div.sk-estimator:hover {\n",
              "  /* unfitted */\n",
              "  background-color: var(--sklearn-color-unfitted-level-2);\n",
              "}\n",
              "\n",
              "#sk-container-id-1 div.sk-estimator.fitted:hover {\n",
              "  /* fitted */\n",
              "  background-color: var(--sklearn-color-fitted-level-2);\n",
              "}\n",
              "\n",
              "/* Specification for estimator info (e.g. \"i\" and \"?\") */\n",
              "\n",
              "/* Common style for \"i\" and \"?\" */\n",
              "\n",
              ".sk-estimator-doc-link,\n",
              "a:link.sk-estimator-doc-link,\n",
              "a:visited.sk-estimator-doc-link {\n",
              "  float: right;\n",
              "  font-size: smaller;\n",
              "  line-height: 1em;\n",
              "  font-family: monospace;\n",
              "  background-color: var(--sklearn-color-background);\n",
              "  border-radius: 1em;\n",
              "  height: 1em;\n",
              "  width: 1em;\n",
              "  text-decoration: none !important;\n",
              "  margin-left: 0.5em;\n",
              "  text-align: center;\n",
              "  /* unfitted */\n",
              "  border: var(--sklearn-color-unfitted-level-1) 1pt solid;\n",
              "  color: var(--sklearn-color-unfitted-level-1);\n",
              "}\n",
              "\n",
              ".sk-estimator-doc-link.fitted,\n",
              "a:link.sk-estimator-doc-link.fitted,\n",
              "a:visited.sk-estimator-doc-link.fitted {\n",
              "  /* fitted */\n",
              "  border: var(--sklearn-color-fitted-level-1) 1pt solid;\n",
              "  color: var(--sklearn-color-fitted-level-1);\n",
              "}\n",
              "\n",
              "/* On hover */\n",
              "div.sk-estimator:hover .sk-estimator-doc-link:hover,\n",
              ".sk-estimator-doc-link:hover,\n",
              "div.sk-label-container:hover .sk-estimator-doc-link:hover,\n",
              ".sk-estimator-doc-link:hover {\n",
              "  /* unfitted */\n",
              "  background-color: var(--sklearn-color-unfitted-level-3);\n",
              "  color: var(--sklearn-color-background);\n",
              "  text-decoration: none;\n",
              "}\n",
              "\n",
              "div.sk-estimator.fitted:hover .sk-estimator-doc-link.fitted:hover,\n",
              ".sk-estimator-doc-link.fitted:hover,\n",
              "div.sk-label-container:hover .sk-estimator-doc-link.fitted:hover,\n",
              ".sk-estimator-doc-link.fitted:hover {\n",
              "  /* fitted */\n",
              "  background-color: var(--sklearn-color-fitted-level-3);\n",
              "  color: var(--sklearn-color-background);\n",
              "  text-decoration: none;\n",
              "}\n",
              "\n",
              "/* Span, style for the box shown on hovering the info icon */\n",
              ".sk-estimator-doc-link span {\n",
              "  display: none;\n",
              "  z-index: 9999;\n",
              "  position: relative;\n",
              "  font-weight: normal;\n",
              "  right: .2ex;\n",
              "  padding: .5ex;\n",
              "  margin: .5ex;\n",
              "  width: min-content;\n",
              "  min-width: 20ex;\n",
              "  max-width: 50ex;\n",
              "  color: var(--sklearn-color-text);\n",
              "  box-shadow: 2pt 2pt 4pt #999;\n",
              "  /* unfitted */\n",
              "  background: var(--sklearn-color-unfitted-level-0);\n",
              "  border: .5pt solid var(--sklearn-color-unfitted-level-3);\n",
              "}\n",
              "\n",
              ".sk-estimator-doc-link.fitted span {\n",
              "  /* fitted */\n",
              "  background: var(--sklearn-color-fitted-level-0);\n",
              "  border: var(--sklearn-color-fitted-level-3);\n",
              "}\n",
              "\n",
              ".sk-estimator-doc-link:hover span {\n",
              "  display: block;\n",
              "}\n",
              "\n",
              "/* \"?\"-specific style due to the `<a>` HTML tag */\n",
              "\n",
              "#sk-container-id-1 a.estimator_doc_link {\n",
              "  float: right;\n",
              "  font-size: 1rem;\n",
              "  line-height: 1em;\n",
              "  font-family: monospace;\n",
              "  background-color: var(--sklearn-color-background);\n",
              "  border-radius: 1rem;\n",
              "  height: 1rem;\n",
              "  width: 1rem;\n",
              "  text-decoration: none;\n",
              "  /* unfitted */\n",
              "  color: var(--sklearn-color-unfitted-level-1);\n",
              "  border: var(--sklearn-color-unfitted-level-1) 1pt solid;\n",
              "}\n",
              "\n",
              "#sk-container-id-1 a.estimator_doc_link.fitted {\n",
              "  /* fitted */\n",
              "  border: var(--sklearn-color-fitted-level-1) 1pt solid;\n",
              "  color: var(--sklearn-color-fitted-level-1);\n",
              "}\n",
              "\n",
              "/* On hover */\n",
              "#sk-container-id-1 a.estimator_doc_link:hover {\n",
              "  /* unfitted */\n",
              "  background-color: var(--sklearn-color-unfitted-level-3);\n",
              "  color: var(--sklearn-color-background);\n",
              "  text-decoration: none;\n",
              "}\n",
              "\n",
              "#sk-container-id-1 a.estimator_doc_link.fitted:hover {\n",
              "  /* fitted */\n",
              "  background-color: var(--sklearn-color-fitted-level-3);\n",
              "}\n",
              "</style><div id=\"sk-container-id-1\" class=\"sk-top-container\"><div class=\"sk-text-repr-fallback\"><pre>GridSearchCV(cv=StratifiedKFold(n_splits=5, random_state=0, shuffle=True),\n",
              "             estimator=RandomForestClassifier(class_weight=&#x27;balanced&#x27;,\n",
              "                                              min_samples_leaf=2,\n",
              "                                              n_estimators=400, n_jobs=-1,\n",
              "                                              random_state=0),\n",
              "             n_jobs=-1,\n",
              "             param_grid={&#x27;max_features&#x27;: [&#x27;sqrt&#x27;, 0.5],\n",
              "                         &#x27;min_samples_leaf&#x27;: [1, 2, 3],\n",
              "                         &#x27;n_estimators&#x27;: [300, 500]},\n",
              "             scoring=&#x27;f1_macro&#x27;)</pre><b>In a Jupyter environment, please rerun this cell to show the HTML representation or trust the notebook. <br />On GitHub, the HTML representation is unable to render, please try loading this page with nbviewer.org.</b></div><div class=\"sk-container\" hidden><div class=\"sk-item sk-dashed-wrapped\"><div class=\"sk-label-container\"><div class=\"sk-label fitted sk-toggleable\"><input class=\"sk-toggleable__control sk-hidden--visually\" id=\"sk-estimator-id-1\" type=\"checkbox\" ><label for=\"sk-estimator-id-1\" class=\"sk-toggleable__label fitted sk-toggleable__label-arrow\"><div><div>GridSearchCV</div></div><div><a class=\"sk-estimator-doc-link fitted\" rel=\"noreferrer\" target=\"_blank\" href=\"https://scikit-learn.org/1.6/modules/generated/sklearn.model_selection.GridSearchCV.html\">?<span>Documentation for GridSearchCV</span></a><span class=\"sk-estimator-doc-link fitted\">i<span>Fitted</span></span></div></label><div class=\"sk-toggleable__content fitted\"><pre>GridSearchCV(cv=StratifiedKFold(n_splits=5, random_state=0, shuffle=True),\n",
              "             estimator=RandomForestClassifier(class_weight=&#x27;balanced&#x27;,\n",
              "                                              min_samples_leaf=2,\n",
              "                                              n_estimators=400, n_jobs=-1,\n",
              "                                              random_state=0),\n",
              "             n_jobs=-1,\n",
              "             param_grid={&#x27;max_features&#x27;: [&#x27;sqrt&#x27;, 0.5],\n",
              "                         &#x27;min_samples_leaf&#x27;: [1, 2, 3],\n",
              "                         &#x27;n_estimators&#x27;: [300, 500]},\n",
              "             scoring=&#x27;f1_macro&#x27;)</pre></div> </div></div><div class=\"sk-parallel\"><div class=\"sk-parallel-item\"><div class=\"sk-item\"><div class=\"sk-label-container\"><div class=\"sk-label fitted sk-toggleable\"><input class=\"sk-toggleable__control sk-hidden--visually\" id=\"sk-estimator-id-2\" type=\"checkbox\" ><label for=\"sk-estimator-id-2\" class=\"sk-toggleable__label fitted sk-toggleable__label-arrow\"><div><div>best_estimator_: RandomForestClassifier</div></div></label><div class=\"sk-toggleable__content fitted\"><pre>RandomForestClassifier(class_weight=&#x27;balanced&#x27;, max_features=0.5,\n",
              "                       min_samples_leaf=2, n_estimators=500, n_jobs=-1,\n",
              "                       random_state=0)</pre></div> </div></div><div class=\"sk-serial\"><div class=\"sk-item\"><div class=\"sk-estimator fitted sk-toggleable\"><input class=\"sk-toggleable__control sk-hidden--visually\" id=\"sk-estimator-id-3\" type=\"checkbox\" ><label for=\"sk-estimator-id-3\" class=\"sk-toggleable__label fitted sk-toggleable__label-arrow\"><div><div>RandomForestClassifier</div></div><div><a class=\"sk-estimator-doc-link fitted\" rel=\"noreferrer\" target=\"_blank\" href=\"https://scikit-learn.org/1.6/modules/generated/sklearn.ensemble.RandomForestClassifier.html\">?<span>Documentation for RandomForestClassifier</span></a></div></label><div class=\"sk-toggleable__content fitted\"><pre>RandomForestClassifier(class_weight=&#x27;balanced&#x27;, max_features=0.5,\n",
              "                       min_samples_leaf=2, n_estimators=500, n_jobs=-1,\n",
              "                       random_state=0)</pre></div> </div></div></div></div></div></div></div></div></div>"
            ]
          },
          "metadata": {},
          "execution_count": 26
        }
      ]
    },
    {
      "cell_type": "code",
      "source": [
        "best_rf = gs_rf.best_estimator_\n",
        "print(\"RF best params:\", gs_rf.best_params_)"
      ],
      "metadata": {
        "colab": {
          "base_uri": "https://localhost:8080/"
        },
        "id": "LIopjbqXr_i0",
        "outputId": "7e794eb2-4829-4916-ded9-cff7a96cb291"
      },
      "execution_count": 27,
      "outputs": [
        {
          "output_type": "stream",
          "name": "stdout",
          "text": [
            "RF best params: {'max_features': 0.5, 'min_samples_leaf': 2, 'n_estimators': 500}\n"
          ]
        }
      ]
    },
    {
      "cell_type": "code",
      "source": [
        "y_val_rf = best_rf.predict(X_val)\n",
        "print(\"\\nRandomForest\")\n",
        "print(\"Accuracy:\", round(accuracy_score(y_val, y_val_rf), 3))\n",
        "print(\"Macro-F1:\", round(f1_score(y_val, y_val_rf, average=\"macro\"), 3))"
      ],
      "metadata": {
        "colab": {
          "base_uri": "https://localhost:8080/"
        },
        "id": "dqib2Nd_sCZ8",
        "outputId": "53ad8077-0c20-41a9-d035-2f40eaeddf34"
      },
      "execution_count": 28,
      "outputs": [
        {
          "output_type": "stream",
          "name": "stdout",
          "text": [
            "\n",
            "RandomForest\n",
            "Accuracy: 0.796\n",
            "Macro-F1: 0.621\n"
          ]
        }
      ]
    },
    {
      "cell_type": "code",
      "source": [
        "X_trval = np.vstack([X_tr, X_val])\n",
        "y_trval = np.hstack([y_tr, y_val])"
      ],
      "metadata": {
        "id": "uZuc3r15sMEk"
      },
      "execution_count": 29,
      "outputs": []
    },
    {
      "cell_type": "code",
      "source": [
        "best_rf.fit(X_trval, y_trval)\n",
        "y_te_rf = best_rf.predict(X_te)"
      ],
      "metadata": {
        "id": "WF6GSO1AsSzw"
      },
      "execution_count": 30,
      "outputs": []
    },
    {
      "cell_type": "code",
      "source": [
        "print(\"\\nRandomForest\")\n",
        "print(\"Accuracy:\", round(accuracy_score(y_te, y_te_rf), 3))\n",
        "print(\"Macro-F1:\", round(f1_score(y_te, y_te_rf, average=\"macro\"), 3))\n",
        "print(classification_report(y_te, y_te_rf, digits=3))"
      ],
      "metadata": {
        "colab": {
          "base_uri": "https://localhost:8080/"
        },
        "id": "iHg3lE0fscG3",
        "outputId": "05695b47-2946-473f-e471-5edd1340b63d"
      },
      "execution_count": 31,
      "outputs": [
        {
          "output_type": "stream",
          "name": "stdout",
          "text": [
            "\n",
            "RandomForest\n",
            "Accuracy: 0.805\n",
            "Macro-F1: 0.745\n",
            "              precision    recall  f1-score   support\n",
            "\n",
            "    crossing      0.750     0.900     0.818        20\n",
            "     defence      1.000     0.500     0.667         2\n",
            "   dribbling      0.500     0.333     0.400         3\n",
            "   jump-shot      0.828     0.873     0.850        55\n",
            "     passing      0.867     0.812     0.839        16\n",
            "     running      1.000     1.000     1.000         1\n",
            "        shot      0.750     0.562     0.643        16\n",
            "\n",
            "    accuracy                          0.805       113\n",
            "   macro avg      0.813     0.712     0.745       113\n",
            "weighted avg      0.804     0.805     0.799       113\n",
            "\n"
          ]
        }
      ]
    },
    {
      "cell_type": "markdown",
      "source": [
        "# **ExtraTrees**"
      ],
      "metadata": {
        "id": "gqNbMb2Uvhk4"
      }
    },
    {
      "cell_type": "code",
      "source": [
        "et = ExtraTreesClassifier(\n",
        "    n_estimators=600,\n",
        "    max_depth=None,\n",
        "    min_samples_leaf=1,\n",
        "    max_features='sqrt',\n",
        "    class_weight='balanced',\n",
        "    random_state=SEED,\n",
        "    n_jobs=-1\n",
        ")"
      ],
      "metadata": {
        "id": "nWfRmxJJvvBF"
      },
      "execution_count": 32,
      "outputs": []
    },
    {
      "cell_type": "code",
      "source": [
        "param_grid_et = {\n",
        "    \"n_estimators\": [400, 800],\n",
        "    \"min_samples_leaf\": [1, 2],\n",
        "    \"max_features\": [\"sqrt\", 0.6],\n",
        "}"
      ],
      "metadata": {
        "id": "GEtvVAsGwSit"
      },
      "execution_count": 33,
      "outputs": []
    },
    {
      "cell_type": "code",
      "source": [
        "gs_et = GridSearchCV(et, param_grid_et, scoring=\"f1_macro\", cv=cv, n_jobs=-1, verbose=0)"
      ],
      "metadata": {
        "id": "7Nz3vFdhwbjI"
      },
      "execution_count": 34,
      "outputs": []
    },
    {
      "cell_type": "code",
      "source": [
        "gs_et.fit(X_tr, y_tr)"
      ],
      "metadata": {
        "colab": {
          "base_uri": "https://localhost:8080/",
          "height": 166
        },
        "id": "AfozLF6awera",
        "outputId": "34ba9ee5-4e97-49c3-afa6-01e02c95e0a6"
      },
      "execution_count": 35,
      "outputs": [
        {
          "output_type": "execute_result",
          "data": {
            "text/plain": [
              "GridSearchCV(cv=StratifiedKFold(n_splits=5, random_state=0, shuffle=True),\n",
              "             estimator=ExtraTreesClassifier(class_weight='balanced',\n",
              "                                            n_estimators=600, n_jobs=-1,\n",
              "                                            random_state=0),\n",
              "             n_jobs=-1,\n",
              "             param_grid={'max_features': ['sqrt', 0.6],\n",
              "                         'min_samples_leaf': [1, 2],\n",
              "                         'n_estimators': [400, 800]},\n",
              "             scoring='f1_macro')"
            ],
            "text/html": [
              "<style>#sk-container-id-2 {\n",
              "  /* Definition of color scheme common for light and dark mode */\n",
              "  --sklearn-color-text: #000;\n",
              "  --sklearn-color-text-muted: #666;\n",
              "  --sklearn-color-line: gray;\n",
              "  /* Definition of color scheme for unfitted estimators */\n",
              "  --sklearn-color-unfitted-level-0: #fff5e6;\n",
              "  --sklearn-color-unfitted-level-1: #f6e4d2;\n",
              "  --sklearn-color-unfitted-level-2: #ffe0b3;\n",
              "  --sklearn-color-unfitted-level-3: chocolate;\n",
              "  /* Definition of color scheme for fitted estimators */\n",
              "  --sklearn-color-fitted-level-0: #f0f8ff;\n",
              "  --sklearn-color-fitted-level-1: #d4ebff;\n",
              "  --sklearn-color-fitted-level-2: #b3dbfd;\n",
              "  --sklearn-color-fitted-level-3: cornflowerblue;\n",
              "\n",
              "  /* Specific color for light theme */\n",
              "  --sklearn-color-text-on-default-background: var(--sg-text-color, var(--theme-code-foreground, var(--jp-content-font-color1, black)));\n",
              "  --sklearn-color-background: var(--sg-background-color, var(--theme-background, var(--jp-layout-color0, white)));\n",
              "  --sklearn-color-border-box: var(--sg-text-color, var(--theme-code-foreground, var(--jp-content-font-color1, black)));\n",
              "  --sklearn-color-icon: #696969;\n",
              "\n",
              "  @media (prefers-color-scheme: dark) {\n",
              "    /* Redefinition of color scheme for dark theme */\n",
              "    --sklearn-color-text-on-default-background: var(--sg-text-color, var(--theme-code-foreground, var(--jp-content-font-color1, white)));\n",
              "    --sklearn-color-background: var(--sg-background-color, var(--theme-background, var(--jp-layout-color0, #111)));\n",
              "    --sklearn-color-border-box: var(--sg-text-color, var(--theme-code-foreground, var(--jp-content-font-color1, white)));\n",
              "    --sklearn-color-icon: #878787;\n",
              "  }\n",
              "}\n",
              "\n",
              "#sk-container-id-2 {\n",
              "  color: var(--sklearn-color-text);\n",
              "}\n",
              "\n",
              "#sk-container-id-2 pre {\n",
              "  padding: 0;\n",
              "}\n",
              "\n",
              "#sk-container-id-2 input.sk-hidden--visually {\n",
              "  border: 0;\n",
              "  clip: rect(1px 1px 1px 1px);\n",
              "  clip: rect(1px, 1px, 1px, 1px);\n",
              "  height: 1px;\n",
              "  margin: -1px;\n",
              "  overflow: hidden;\n",
              "  padding: 0;\n",
              "  position: absolute;\n",
              "  width: 1px;\n",
              "}\n",
              "\n",
              "#sk-container-id-2 div.sk-dashed-wrapped {\n",
              "  border: 1px dashed var(--sklearn-color-line);\n",
              "  margin: 0 0.4em 0.5em 0.4em;\n",
              "  box-sizing: border-box;\n",
              "  padding-bottom: 0.4em;\n",
              "  background-color: var(--sklearn-color-background);\n",
              "}\n",
              "\n",
              "#sk-container-id-2 div.sk-container {\n",
              "  /* jupyter's `normalize.less` sets `[hidden] { display: none; }`\n",
              "     but bootstrap.min.css set `[hidden] { display: none !important; }`\n",
              "     so we also need the `!important` here to be able to override the\n",
              "     default hidden behavior on the sphinx rendered scikit-learn.org.\n",
              "     See: https://github.com/scikit-learn/scikit-learn/issues/21755 */\n",
              "  display: inline-block !important;\n",
              "  position: relative;\n",
              "}\n",
              "\n",
              "#sk-container-id-2 div.sk-text-repr-fallback {\n",
              "  display: none;\n",
              "}\n",
              "\n",
              "div.sk-parallel-item,\n",
              "div.sk-serial,\n",
              "div.sk-item {\n",
              "  /* draw centered vertical line to link estimators */\n",
              "  background-image: linear-gradient(var(--sklearn-color-text-on-default-background), var(--sklearn-color-text-on-default-background));\n",
              "  background-size: 2px 100%;\n",
              "  background-repeat: no-repeat;\n",
              "  background-position: center center;\n",
              "}\n",
              "\n",
              "/* Parallel-specific style estimator block */\n",
              "\n",
              "#sk-container-id-2 div.sk-parallel-item::after {\n",
              "  content: \"\";\n",
              "  width: 100%;\n",
              "  border-bottom: 2px solid var(--sklearn-color-text-on-default-background);\n",
              "  flex-grow: 1;\n",
              "}\n",
              "\n",
              "#sk-container-id-2 div.sk-parallel {\n",
              "  display: flex;\n",
              "  align-items: stretch;\n",
              "  justify-content: center;\n",
              "  background-color: var(--sklearn-color-background);\n",
              "  position: relative;\n",
              "}\n",
              "\n",
              "#sk-container-id-2 div.sk-parallel-item {\n",
              "  display: flex;\n",
              "  flex-direction: column;\n",
              "}\n",
              "\n",
              "#sk-container-id-2 div.sk-parallel-item:first-child::after {\n",
              "  align-self: flex-end;\n",
              "  width: 50%;\n",
              "}\n",
              "\n",
              "#sk-container-id-2 div.sk-parallel-item:last-child::after {\n",
              "  align-self: flex-start;\n",
              "  width: 50%;\n",
              "}\n",
              "\n",
              "#sk-container-id-2 div.sk-parallel-item:only-child::after {\n",
              "  width: 0;\n",
              "}\n",
              "\n",
              "/* Serial-specific style estimator block */\n",
              "\n",
              "#sk-container-id-2 div.sk-serial {\n",
              "  display: flex;\n",
              "  flex-direction: column;\n",
              "  align-items: center;\n",
              "  background-color: var(--sklearn-color-background);\n",
              "  padding-right: 1em;\n",
              "  padding-left: 1em;\n",
              "}\n",
              "\n",
              "\n",
              "/* Toggleable style: style used for estimator/Pipeline/ColumnTransformer box that is\n",
              "clickable and can be expanded/collapsed.\n",
              "- Pipeline and ColumnTransformer use this feature and define the default style\n",
              "- Estimators will overwrite some part of the style using the `sk-estimator` class\n",
              "*/\n",
              "\n",
              "/* Pipeline and ColumnTransformer style (default) */\n",
              "\n",
              "#sk-container-id-2 div.sk-toggleable {\n",
              "  /* Default theme specific background. It is overwritten whether we have a\n",
              "  specific estimator or a Pipeline/ColumnTransformer */\n",
              "  background-color: var(--sklearn-color-background);\n",
              "}\n",
              "\n",
              "/* Toggleable label */\n",
              "#sk-container-id-2 label.sk-toggleable__label {\n",
              "  cursor: pointer;\n",
              "  display: flex;\n",
              "  width: 100%;\n",
              "  margin-bottom: 0;\n",
              "  padding: 0.5em;\n",
              "  box-sizing: border-box;\n",
              "  text-align: center;\n",
              "  align-items: start;\n",
              "  justify-content: space-between;\n",
              "  gap: 0.5em;\n",
              "}\n",
              "\n",
              "#sk-container-id-2 label.sk-toggleable__label .caption {\n",
              "  font-size: 0.6rem;\n",
              "  font-weight: lighter;\n",
              "  color: var(--sklearn-color-text-muted);\n",
              "}\n",
              "\n",
              "#sk-container-id-2 label.sk-toggleable__label-arrow:before {\n",
              "  /* Arrow on the left of the label */\n",
              "  content: \"▸\";\n",
              "  float: left;\n",
              "  margin-right: 0.25em;\n",
              "  color: var(--sklearn-color-icon);\n",
              "}\n",
              "\n",
              "#sk-container-id-2 label.sk-toggleable__label-arrow:hover:before {\n",
              "  color: var(--sklearn-color-text);\n",
              "}\n",
              "\n",
              "/* Toggleable content - dropdown */\n",
              "\n",
              "#sk-container-id-2 div.sk-toggleable__content {\n",
              "  max-height: 0;\n",
              "  max-width: 0;\n",
              "  overflow: hidden;\n",
              "  text-align: left;\n",
              "  /* unfitted */\n",
              "  background-color: var(--sklearn-color-unfitted-level-0);\n",
              "}\n",
              "\n",
              "#sk-container-id-2 div.sk-toggleable__content.fitted {\n",
              "  /* fitted */\n",
              "  background-color: var(--sklearn-color-fitted-level-0);\n",
              "}\n",
              "\n",
              "#sk-container-id-2 div.sk-toggleable__content pre {\n",
              "  margin: 0.2em;\n",
              "  border-radius: 0.25em;\n",
              "  color: var(--sklearn-color-text);\n",
              "  /* unfitted */\n",
              "  background-color: var(--sklearn-color-unfitted-level-0);\n",
              "}\n",
              "\n",
              "#sk-container-id-2 div.sk-toggleable__content.fitted pre {\n",
              "  /* unfitted */\n",
              "  background-color: var(--sklearn-color-fitted-level-0);\n",
              "}\n",
              "\n",
              "#sk-container-id-2 input.sk-toggleable__control:checked~div.sk-toggleable__content {\n",
              "  /* Expand drop-down */\n",
              "  max-height: 200px;\n",
              "  max-width: 100%;\n",
              "  overflow: auto;\n",
              "}\n",
              "\n",
              "#sk-container-id-2 input.sk-toggleable__control:checked~label.sk-toggleable__label-arrow:before {\n",
              "  content: \"▾\";\n",
              "}\n",
              "\n",
              "/* Pipeline/ColumnTransformer-specific style */\n",
              "\n",
              "#sk-container-id-2 div.sk-label input.sk-toggleable__control:checked~label.sk-toggleable__label {\n",
              "  color: var(--sklearn-color-text);\n",
              "  background-color: var(--sklearn-color-unfitted-level-2);\n",
              "}\n",
              "\n",
              "#sk-container-id-2 div.sk-label.fitted input.sk-toggleable__control:checked~label.sk-toggleable__label {\n",
              "  background-color: var(--sklearn-color-fitted-level-2);\n",
              "}\n",
              "\n",
              "/* Estimator-specific style */\n",
              "\n",
              "/* Colorize estimator box */\n",
              "#sk-container-id-2 div.sk-estimator input.sk-toggleable__control:checked~label.sk-toggleable__label {\n",
              "  /* unfitted */\n",
              "  background-color: var(--sklearn-color-unfitted-level-2);\n",
              "}\n",
              "\n",
              "#sk-container-id-2 div.sk-estimator.fitted input.sk-toggleable__control:checked~label.sk-toggleable__label {\n",
              "  /* fitted */\n",
              "  background-color: var(--sklearn-color-fitted-level-2);\n",
              "}\n",
              "\n",
              "#sk-container-id-2 div.sk-label label.sk-toggleable__label,\n",
              "#sk-container-id-2 div.sk-label label {\n",
              "  /* The background is the default theme color */\n",
              "  color: var(--sklearn-color-text-on-default-background);\n",
              "}\n",
              "\n",
              "/* On hover, darken the color of the background */\n",
              "#sk-container-id-2 div.sk-label:hover label.sk-toggleable__label {\n",
              "  color: var(--sklearn-color-text);\n",
              "  background-color: var(--sklearn-color-unfitted-level-2);\n",
              "}\n",
              "\n",
              "/* Label box, darken color on hover, fitted */\n",
              "#sk-container-id-2 div.sk-label.fitted:hover label.sk-toggleable__label.fitted {\n",
              "  color: var(--sklearn-color-text);\n",
              "  background-color: var(--sklearn-color-fitted-level-2);\n",
              "}\n",
              "\n",
              "/* Estimator label */\n",
              "\n",
              "#sk-container-id-2 div.sk-label label {\n",
              "  font-family: monospace;\n",
              "  font-weight: bold;\n",
              "  display: inline-block;\n",
              "  line-height: 1.2em;\n",
              "}\n",
              "\n",
              "#sk-container-id-2 div.sk-label-container {\n",
              "  text-align: center;\n",
              "}\n",
              "\n",
              "/* Estimator-specific */\n",
              "#sk-container-id-2 div.sk-estimator {\n",
              "  font-family: monospace;\n",
              "  border: 1px dotted var(--sklearn-color-border-box);\n",
              "  border-radius: 0.25em;\n",
              "  box-sizing: border-box;\n",
              "  margin-bottom: 0.5em;\n",
              "  /* unfitted */\n",
              "  background-color: var(--sklearn-color-unfitted-level-0);\n",
              "}\n",
              "\n",
              "#sk-container-id-2 div.sk-estimator.fitted {\n",
              "  /* fitted */\n",
              "  background-color: var(--sklearn-color-fitted-level-0);\n",
              "}\n",
              "\n",
              "/* on hover */\n",
              "#sk-container-id-2 div.sk-estimator:hover {\n",
              "  /* unfitted */\n",
              "  background-color: var(--sklearn-color-unfitted-level-2);\n",
              "}\n",
              "\n",
              "#sk-container-id-2 div.sk-estimator.fitted:hover {\n",
              "  /* fitted */\n",
              "  background-color: var(--sklearn-color-fitted-level-2);\n",
              "}\n",
              "\n",
              "/* Specification for estimator info (e.g. \"i\" and \"?\") */\n",
              "\n",
              "/* Common style for \"i\" and \"?\" */\n",
              "\n",
              ".sk-estimator-doc-link,\n",
              "a:link.sk-estimator-doc-link,\n",
              "a:visited.sk-estimator-doc-link {\n",
              "  float: right;\n",
              "  font-size: smaller;\n",
              "  line-height: 1em;\n",
              "  font-family: monospace;\n",
              "  background-color: var(--sklearn-color-background);\n",
              "  border-radius: 1em;\n",
              "  height: 1em;\n",
              "  width: 1em;\n",
              "  text-decoration: none !important;\n",
              "  margin-left: 0.5em;\n",
              "  text-align: center;\n",
              "  /* unfitted */\n",
              "  border: var(--sklearn-color-unfitted-level-1) 1pt solid;\n",
              "  color: var(--sklearn-color-unfitted-level-1);\n",
              "}\n",
              "\n",
              ".sk-estimator-doc-link.fitted,\n",
              "a:link.sk-estimator-doc-link.fitted,\n",
              "a:visited.sk-estimator-doc-link.fitted {\n",
              "  /* fitted */\n",
              "  border: var(--sklearn-color-fitted-level-1) 1pt solid;\n",
              "  color: var(--sklearn-color-fitted-level-1);\n",
              "}\n",
              "\n",
              "/* On hover */\n",
              "div.sk-estimator:hover .sk-estimator-doc-link:hover,\n",
              ".sk-estimator-doc-link:hover,\n",
              "div.sk-label-container:hover .sk-estimator-doc-link:hover,\n",
              ".sk-estimator-doc-link:hover {\n",
              "  /* unfitted */\n",
              "  background-color: var(--sklearn-color-unfitted-level-3);\n",
              "  color: var(--sklearn-color-background);\n",
              "  text-decoration: none;\n",
              "}\n",
              "\n",
              "div.sk-estimator.fitted:hover .sk-estimator-doc-link.fitted:hover,\n",
              ".sk-estimator-doc-link.fitted:hover,\n",
              "div.sk-label-container:hover .sk-estimator-doc-link.fitted:hover,\n",
              ".sk-estimator-doc-link.fitted:hover {\n",
              "  /* fitted */\n",
              "  background-color: var(--sklearn-color-fitted-level-3);\n",
              "  color: var(--sklearn-color-background);\n",
              "  text-decoration: none;\n",
              "}\n",
              "\n",
              "/* Span, style for the box shown on hovering the info icon */\n",
              ".sk-estimator-doc-link span {\n",
              "  display: none;\n",
              "  z-index: 9999;\n",
              "  position: relative;\n",
              "  font-weight: normal;\n",
              "  right: .2ex;\n",
              "  padding: .5ex;\n",
              "  margin: .5ex;\n",
              "  width: min-content;\n",
              "  min-width: 20ex;\n",
              "  max-width: 50ex;\n",
              "  color: var(--sklearn-color-text);\n",
              "  box-shadow: 2pt 2pt 4pt #999;\n",
              "  /* unfitted */\n",
              "  background: var(--sklearn-color-unfitted-level-0);\n",
              "  border: .5pt solid var(--sklearn-color-unfitted-level-3);\n",
              "}\n",
              "\n",
              ".sk-estimator-doc-link.fitted span {\n",
              "  /* fitted */\n",
              "  background: var(--sklearn-color-fitted-level-0);\n",
              "  border: var(--sklearn-color-fitted-level-3);\n",
              "}\n",
              "\n",
              ".sk-estimator-doc-link:hover span {\n",
              "  display: block;\n",
              "}\n",
              "\n",
              "/* \"?\"-specific style due to the `<a>` HTML tag */\n",
              "\n",
              "#sk-container-id-2 a.estimator_doc_link {\n",
              "  float: right;\n",
              "  font-size: 1rem;\n",
              "  line-height: 1em;\n",
              "  font-family: monospace;\n",
              "  background-color: var(--sklearn-color-background);\n",
              "  border-radius: 1rem;\n",
              "  height: 1rem;\n",
              "  width: 1rem;\n",
              "  text-decoration: none;\n",
              "  /* unfitted */\n",
              "  color: var(--sklearn-color-unfitted-level-1);\n",
              "  border: var(--sklearn-color-unfitted-level-1) 1pt solid;\n",
              "}\n",
              "\n",
              "#sk-container-id-2 a.estimator_doc_link.fitted {\n",
              "  /* fitted */\n",
              "  border: var(--sklearn-color-fitted-level-1) 1pt solid;\n",
              "  color: var(--sklearn-color-fitted-level-1);\n",
              "}\n",
              "\n",
              "/* On hover */\n",
              "#sk-container-id-2 a.estimator_doc_link:hover {\n",
              "  /* unfitted */\n",
              "  background-color: var(--sklearn-color-unfitted-level-3);\n",
              "  color: var(--sklearn-color-background);\n",
              "  text-decoration: none;\n",
              "}\n",
              "\n",
              "#sk-container-id-2 a.estimator_doc_link.fitted:hover {\n",
              "  /* fitted */\n",
              "  background-color: var(--sklearn-color-fitted-level-3);\n",
              "}\n",
              "</style><div id=\"sk-container-id-2\" class=\"sk-top-container\"><div class=\"sk-text-repr-fallback\"><pre>GridSearchCV(cv=StratifiedKFold(n_splits=5, random_state=0, shuffle=True),\n",
              "             estimator=ExtraTreesClassifier(class_weight=&#x27;balanced&#x27;,\n",
              "                                            n_estimators=600, n_jobs=-1,\n",
              "                                            random_state=0),\n",
              "             n_jobs=-1,\n",
              "             param_grid={&#x27;max_features&#x27;: [&#x27;sqrt&#x27;, 0.6],\n",
              "                         &#x27;min_samples_leaf&#x27;: [1, 2],\n",
              "                         &#x27;n_estimators&#x27;: [400, 800]},\n",
              "             scoring=&#x27;f1_macro&#x27;)</pre><b>In a Jupyter environment, please rerun this cell to show the HTML representation or trust the notebook. <br />On GitHub, the HTML representation is unable to render, please try loading this page with nbviewer.org.</b></div><div class=\"sk-container\" hidden><div class=\"sk-item sk-dashed-wrapped\"><div class=\"sk-label-container\"><div class=\"sk-label fitted sk-toggleable\"><input class=\"sk-toggleable__control sk-hidden--visually\" id=\"sk-estimator-id-4\" type=\"checkbox\" ><label for=\"sk-estimator-id-4\" class=\"sk-toggleable__label fitted sk-toggleable__label-arrow\"><div><div>GridSearchCV</div></div><div><a class=\"sk-estimator-doc-link fitted\" rel=\"noreferrer\" target=\"_blank\" href=\"https://scikit-learn.org/1.6/modules/generated/sklearn.model_selection.GridSearchCV.html\">?<span>Documentation for GridSearchCV</span></a><span class=\"sk-estimator-doc-link fitted\">i<span>Fitted</span></span></div></label><div class=\"sk-toggleable__content fitted\"><pre>GridSearchCV(cv=StratifiedKFold(n_splits=5, random_state=0, shuffle=True),\n",
              "             estimator=ExtraTreesClassifier(class_weight=&#x27;balanced&#x27;,\n",
              "                                            n_estimators=600, n_jobs=-1,\n",
              "                                            random_state=0),\n",
              "             n_jobs=-1,\n",
              "             param_grid={&#x27;max_features&#x27;: [&#x27;sqrt&#x27;, 0.6],\n",
              "                         &#x27;min_samples_leaf&#x27;: [1, 2],\n",
              "                         &#x27;n_estimators&#x27;: [400, 800]},\n",
              "             scoring=&#x27;f1_macro&#x27;)</pre></div> </div></div><div class=\"sk-parallel\"><div class=\"sk-parallel-item\"><div class=\"sk-item\"><div class=\"sk-label-container\"><div class=\"sk-label fitted sk-toggleable\"><input class=\"sk-toggleable__control sk-hidden--visually\" id=\"sk-estimator-id-5\" type=\"checkbox\" ><label for=\"sk-estimator-id-5\" class=\"sk-toggleable__label fitted sk-toggleable__label-arrow\"><div><div>best_estimator_: ExtraTreesClassifier</div></div></label><div class=\"sk-toggleable__content fitted\"><pre>ExtraTreesClassifier(class_weight=&#x27;balanced&#x27;, max_features=0.6,\n",
              "                     min_samples_leaf=2, n_estimators=400, n_jobs=-1,\n",
              "                     random_state=0)</pre></div> </div></div><div class=\"sk-serial\"><div class=\"sk-item\"><div class=\"sk-estimator fitted sk-toggleable\"><input class=\"sk-toggleable__control sk-hidden--visually\" id=\"sk-estimator-id-6\" type=\"checkbox\" ><label for=\"sk-estimator-id-6\" class=\"sk-toggleable__label fitted sk-toggleable__label-arrow\"><div><div>ExtraTreesClassifier</div></div><div><a class=\"sk-estimator-doc-link fitted\" rel=\"noreferrer\" target=\"_blank\" href=\"https://scikit-learn.org/1.6/modules/generated/sklearn.ensemble.ExtraTreesClassifier.html\">?<span>Documentation for ExtraTreesClassifier</span></a></div></label><div class=\"sk-toggleable__content fitted\"><pre>ExtraTreesClassifier(class_weight=&#x27;balanced&#x27;, max_features=0.6,\n",
              "                     min_samples_leaf=2, n_estimators=400, n_jobs=-1,\n",
              "                     random_state=0)</pre></div> </div></div></div></div></div></div></div></div></div>"
            ]
          },
          "metadata": {},
          "execution_count": 35
        }
      ]
    },
    {
      "cell_type": "code",
      "source": [
        "best_et = gs_et.best_estimator_\n",
        "print(\"ExtraTrees best params:\", gs_et.best_params_)"
      ],
      "metadata": {
        "colab": {
          "base_uri": "https://localhost:8080/"
        },
        "id": "T_6kZ4k7yXXy",
        "outputId": "26ad4ef6-fc2f-48d0-e7d1-d6bca1ef29de"
      },
      "execution_count": 36,
      "outputs": [
        {
          "output_type": "stream",
          "name": "stdout",
          "text": [
            "ExtraTrees best params: {'max_features': 0.6, 'min_samples_leaf': 2, 'n_estimators': 400}\n"
          ]
        }
      ]
    },
    {
      "cell_type": "code",
      "source": [
        "y_val_et = best_et.predict(X_val)\n",
        "print(\"\\nExtraTrees\")\n",
        "print(\"Accuracy:\", round(accuracy_score(y_val, y_val_et), 3))\n",
        "print(\"Macro-F1:\", round(f1_score(y_val, y_val_et, average=\"macro\"), 3))"
      ],
      "metadata": {
        "colab": {
          "base_uri": "https://localhost:8080/"
        },
        "id": "qhMstdNo0Izk",
        "outputId": "8d29183d-9cc2-48ab-9913-69ef39966a3e"
      },
      "execution_count": 37,
      "outputs": [
        {
          "output_type": "stream",
          "name": "stdout",
          "text": [
            "\n",
            "ExtraTrees\n",
            "Accuracy: 0.805\n",
            "Macro-F1: 0.663\n"
          ]
        }
      ]
    },
    {
      "cell_type": "code",
      "source": [
        "best_et.fit(X_trval, y_trval)\n",
        "y_te_et = best_et.predict(X_te)"
      ],
      "metadata": {
        "id": "obUDSoPw1qRC"
      },
      "execution_count": 38,
      "outputs": []
    },
    {
      "cell_type": "code",
      "source": [
        "print(\"\\nExtraTrees\")\n",
        "print(\"Accuracy:\", round(accuracy_score(y_te, y_te_et), 3))\n",
        "print(\"Macro-F1:\", round(f1_score(y_te, y_te_et, average=\"macro\"), 3))\n",
        "print(classification_report(y_te, y_te_et, digits=3))"
      ],
      "metadata": {
        "colab": {
          "base_uri": "https://localhost:8080/"
        },
        "id": "x1EyHWlQ1r8i",
        "outputId": "ed3d368d-2608-4a88-a203-4cc4cc4ee25a"
      },
      "execution_count": 39,
      "outputs": [
        {
          "output_type": "stream",
          "name": "stdout",
          "text": [
            "\n",
            "ExtraTrees\n",
            "Accuracy: 0.796\n",
            "Macro-F1: 0.719\n",
            "              precision    recall  f1-score   support\n",
            "\n",
            "    crossing      0.783     0.900     0.837        20\n",
            "     defence      0.500     0.500     0.500         2\n",
            "   dribbling      0.500     0.333     0.400         3\n",
            "   jump-shot      0.852     0.836     0.844        55\n",
            "     passing      0.765     0.812     0.788        16\n",
            "     running      1.000     1.000     1.000         1\n",
            "        shot      0.714     0.625     0.667        16\n",
            "\n",
            "    accuracy                          0.796       113\n",
            "   macro avg      0.730     0.715     0.719       113\n",
            "weighted avg      0.794     0.796     0.793       113\n",
            "\n"
          ]
        }
      ]
    },
    {
      "cell_type": "markdown",
      "source": [
        "# **Confusion Matrix**"
      ],
      "metadata": {
        "id": "b4FCDnZB10qe"
      }
    },
    {
      "cell_type": "code",
      "source": [
        "def plot_cm(y_true, y_pred, classes, title, save_path):\n",
        "    cm = confusion_matrix(y_true, y_pred, labels=classes)\n",
        "    plt.figure(figsize=(7,6))\n",
        "    sns.heatmap(cm, annot=True, fmt=\"d\", cmap=\"Blues\",\n",
        "                xticklabels=classes, yticklabels=classes)\n",
        "    plt.title(title)\n",
        "    plt.xlabel(\"Predicted\"); plt.ylabel(\"True\")\n",
        "    plt.tight_layout()\n",
        "    plt.savefig(save_path)\n",
        "    plt.show()"
      ],
      "metadata": {
        "id": "apcc4ZPP2bQp"
      },
      "execution_count": 40,
      "outputs": []
    },
    {
      "cell_type": "code",
      "source": [],
      "metadata": {
        "id": "KFHQMbaEKKax"
      },
      "execution_count": 40,
      "outputs": []
    },
    {
      "cell_type": "code",
      "source": [
        "class_order = sorted(np.unique(y))"
      ],
      "metadata": {
        "id": "bR2nE82Z298a"
      },
      "execution_count": 41,
      "outputs": []
    },
    {
      "cell_type": "code",
      "source": [
        "plot_cm(y_te, y_te_rf, class_order,\"Confusion Matrix — RandomForest\", os.path.join(results_Dir, \"cm_rf_Kosmas_Katsioulas_ME2109.png\"))"
      ],
      "metadata": {
        "colab": {
          "base_uri": "https://localhost:8080/",
          "height": 601
        },
        "id": "hYJzh4eG3EaM",
        "outputId": "933f9978-16b8-41f0-f879-93d94dadb648"
      },
      "execution_count": 42,
      "outputs": [
        {
          "output_type": "display_data",
          "data": {
            "text/plain": [
              "<Figure size 700x600 with 2 Axes>"
            ],
            "image/png": "[encoded data removed]"
          },
          "metadata": {}
        }
      ]
    },
    {
      "cell_type": "code",
      "source": [
        "plot_cm(y_te, y_te_et, class_order,\"Confusion Matrix — ExtraTrees\", os.path.join(results_Dir, \"cm_extraTrees_Kosmas_Katsioulas_ME2109.png\"))"
      ],
      "metadata": {
        "colab": {
          "base_uri": "https://localhost:8080/",
          "height": 601
        },
        "id": "vu6YOHrGCRaY",
        "outputId": "91fb7c5e-5ddf-454c-deee-c9c2a91bce54"
      },
      "execution_count": 43,
      "outputs": [
        {
          "output_type": "display_data",
          "data": {
            "text/plain": [
              "<Figure size 700x600 with 2 Axes>"
            ],
            "image/png": "[encoded data removed]"
          },
          "metadata": {}
        }
      ]
    },
    {
      "cell_type": "markdown",
      "source": [
        "# **Feature Importance**"
      ],
      "metadata": {
        "id": "oWWLi53dD0n8"
      }
    },
    {
      "cell_type": "code",
      "source": [
        "def plot_feature_importances(model, feat_names, title, save_path, topk=15):\n",
        "    imp = np.asarray(model.feature_importances_)\n",
        "    order = np.argsort(-imp)[:topk]\n",
        "    plt.figure(figsize=(8,5))\n",
        "    sns.barplot(x=imp[order], y=np.array(feat_names)[order])\n",
        "    plt.title(title)\n",
        "    plt.xlabel(\"Importance\"); plt.ylabel(\"Feature\")\n",
        "    plt.tight_layout()\n",
        "    plt.savefig(save_path)\n",
        "    plt.show()"
      ],
      "metadata": {
        "id": "4vi2l6F6D7Qh"
      },
      "execution_count": 44,
      "outputs": []
    },
    {
      "cell_type": "code",
      "source": [
        "plot_feature_importances(best_rf, feature_cols,\"RandomForest — Top feature importances\", os.path.join(results_Dir, \"rf_feature_importance_Kosmas_Katsioulas_ME2109.png\"))"
      ],
      "metadata": {
        "colab": {
          "base_uri": "https://localhost:8080/",
          "height": 501
        },
        "id": "KiBa7gcPEOU_",
        "outputId": "07d0ef13-9191-43ff-d516-5e27bdc1f515"
      },
      "execution_count": 45,
      "outputs": [
        {
          "output_type": "display_data",
          "data": {
            "text/plain": [
              "<Figure size 800x500 with 1 Axes>"
            ],
            "image/png": "[encoded data removed]"
          },
          "metadata": {}
        }
      ]
    },
    {
      "cell_type": "code",
      "source": [
        "plot_feature_importances(best_et, feature_cols,\"ExtraTrees — Top feature importances\", os.path.join(results_Dir, \"et_feature_importance_Kosmas_Katsioulas_ME2109.png\"))"
      ],
      "metadata": {
        "colab": {
          "base_uri": "https://localhost:8080/",
          "height": 501
        },
        "id": "42mfejUNEn4P",
        "outputId": "14e0ac61-e2ae-4e93-b051-4a4a15cd397c"
      },
      "execution_count": 46,
      "outputs": [
        {
          "output_type": "display_data",
          "data": {
            "text/plain": [
              "<Figure size 800x500 with 1 Axes>"
            ],
            "image/png": "[encoded data removed]"
          },
          "metadata": {}
        }
      ]
    },
    {
      "cell_type": "markdown",
      "source": [
        "# **Comparison Models (Random Forest vs ExtraTrees)**"
      ],
      "metadata": {
        "id": "v0z9pq2OF8ML"
      }
    },
    {
      "cell_type": "code",
      "source": [
        "def metrics_row(name, y_true, y_pred):\n",
        "    return {\n",
        "        \"model\": name,\n",
        "        \"accuracy\": accuracy_score(y_true, y_pred),\n",
        "        \"macro_f1\": f1_score(y_true, y_pred, average=\"macro\"),\n",
        "    }"
      ],
      "metadata": {
        "id": "hUFcg7f4GE7K"
      },
      "execution_count": 47,
      "outputs": []
    },
    {
      "cell_type": "code",
      "source": [
        "rows = []\n",
        "rows.append(metrics_row(\"RandomForest\", y_te, y_te_rf))\n",
        "rows.append(metrics_row(\"ExtraTrees\",   y_te, y_te_et))"
      ],
      "metadata": {
        "id": "HpvP38bVGX5O"
      },
      "execution_count": 48,
      "outputs": []
    },
    {
      "cell_type": "code",
      "source": [
        "df_cmp = pd.DataFrame(rows).sort_values(\"macro_f1\", ascending=False)\n",
        "display(df_cmp.style.format({\"accuracy\":\"{:.3f}\",\"macro_f1\":\"{:.3f}\"}))"
      ],
      "metadata": {
        "colab": {
          "base_uri": "https://localhost:8080/",
          "height": 112
        },
        "id": "Mgi5iNS4GcGz",
        "outputId": "86cd01b8-1bf6-4c2b-80fe-12c1c1e223e8"
      },
      "execution_count": 49,
      "outputs": [
        {
          "output_type": "display_data",
          "data": {
            "text/plain": [
              "<pandas.io.formats.style.Styler at 0x78e02507a4e0>"
            ],
            "text/html": [
              "<style type=\"text/css\">\n",
              "</style>\n",
              "<table id=\"T_48d08\" class=\"dataframe\">\n",
              "  <thead>\n",
              "    <tr>\n",
              "      <th class=\"blank level0\" >&nbsp;</th>\n",
              "      <th id=\"T_48d08_level0_col0\" class=\"col_heading level0 col0\" >model</th>\n",
              "      <th id=\"T_48d08_level0_col1\" class=\"col_heading level0 col1\" >accuracy</th>\n",
              "      <th id=\"T_48d08_level0_col2\" class=\"col_heading level0 col2\" >macro_f1</th>\n",
              "    </tr>\n",
              "  </thead>\n",
              "  <tbody>\n",
              "    <tr>\n",
              "      <th id=\"T_48d08_level0_row0\" class=\"row_heading level0 row0\" >0</th>\n",
              "      <td id=\"T_48d08_row0_col0\" class=\"data row0 col0\" >RandomForest</td>\n",
              "      <td id=\"T_48d08_row0_col1\" class=\"data row0 col1\" >0.805</td>\n",
              "      <td id=\"T_48d08_row0_col2\" class=\"data row0 col2\" >0.745</td>\n",
              "    </tr>\n",
              "    <tr>\n",
              "      <th id=\"T_48d08_level0_row1\" class=\"row_heading level0 row1\" >1</th>\n",
              "      <td id=\"T_48d08_row1_col0\" class=\"data row1 col0\" >ExtraTrees</td>\n",
              "      <td id=\"T_48d08_row1_col1\" class=\"data row1 col1\" >0.796</td>\n",
              "      <td id=\"T_48d08_row1_col2\" class=\"data row1 col2\" >0.719</td>\n",
              "    </tr>\n",
              "  </tbody>\n",
              "</table>\n"
            ]
          },
          "metadata": {}
        }
      ]
    }
  ],
  "metadata": {
    "colab": {
      "machine_shape": "hm",
      "provenance": []
    },
    "kernelspec": {
      "display_name": "Python 3",
      "name": "python3"
    },
    "language_info": {
      "name": "python"
    }
  },
  "nbformat": 4,
  "nbformat_minor": 0
}